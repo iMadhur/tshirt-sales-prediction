{
 "cells": [
  {
   "cell_type": "code",
   "execution_count": 1,
   "id": "965580e0-6f56-4d52-9e10-79ad5a04438c",
   "metadata": {
    "tags": []
   },
   "outputs": [],
   "source": [
    "import pandas as pd\n",
    "import numpy as np"
   ]
  },
  {
   "cell_type": "code",
   "execution_count": 2,
   "id": "dcba90b0",
   "metadata": {},
   "outputs": [],
   "source": [
    "!pip install openpyxl -q"
   ]
  },
  {
   "cell_type": "code",
   "execution_count": 2,
   "id": "325bdfec-64f5-465c-881e-48ab8fe69408",
   "metadata": {
    "tags": []
   },
   "outputs": [],
   "source": [
    "data=pd.read_excel('data.xlsx',sheet_name='Sheet1')\n"
   ]
  },
  {
   "cell_type": "code",
   "execution_count": 3,
   "id": "625b9613-75ce-48fc-9c6d-1ad81f668814",
   "metadata": {
    "tags": []
   },
   "outputs": [
    {
     "data": {
      "text/plain": [
       "array(['Magnus', 'Vedic', 'Mellow', 'Spirited', 'Relaxer', 'Cloudie',\n",
       "       'Fete', 'SHIROI', 'KINETIC', 'Svetah', 'BAY AREA', 'Zeal',\n",
       "       'Nityam', 'KORO', 'Wave', 'Essence', 'CUBANIA', 'SOJOURN',\n",
       "       'Party Punch', 'Zip Log', 'Vistrit', 'Daystart', 'Ethno', 'WAKAI',\n",
       "       'AUSTIN', 'Replay', 'Breeze', 'Root in', 'GRACE', 'BUD', 'ROUTINE',\n",
       "       'NAGAI', 'Berlin', 'Causeway', 'BLOOM', 'Campus', 'Style Up',\n",
       "       'SERENE', 'GALA', 'Cosmo', 'Porto', 'Orchard', 'HEXA', 'ARC',\n",
       "       'Explore', 'Tipple', 'Piaro Shirt', 'PARVA', 'ZIPPING', 'Flape',\n",
       "       'Halfway', 'Sabbatum', 'Flake', 'Enchant', 'TRIO', 'TUX',\n",
       "       'Relajarse', 'The Founder', 'Signature', 'Enfold', 'Wander',\n",
       "       'Candid', 'Glide', 'Se Relaxer', 'Envelop', 'marble', 'Everyday',\n",
       "       'moonstone', 'Fern', 'Quartz', 'Beam', 'Day Off', 'Dandelion',\n",
       "       'pearl', 'Cocoon', 'Caravan', 'Unwinder', 'Lounger', 'Splash',\n",
       "       'Stroll', 'Stride', 'Poolside', 'Diver', 'Velocity', 'Daylight ',\n",
       "       'Leap', 'Day Out', 'Saunter', 'DAILY', 'Golfer', 'Swift',\n",
       "       'Ethno - Old', 'HAVEN', 'DAILY -P2', 'DAILY -P3', 'Emblem',\n",
       "       'Summit', 'edge', 'Snooze'], dtype=object)"
      ]
     },
     "execution_count": 3,
     "metadata": {},
     "output_type": "execute_result"
    }
   ],
   "source": [
    "data['Style'].unique()"
   ]
  },
  {
   "cell_type": "code",
   "execution_count": 4,
   "id": "aec6bb85-fa67-497e-a369-11cd8da4ac49",
   "metadata": {
    "tags": []
   },
   "outputs": [
    {
     "data": {
      "text/plain": [
       "KOW-CC04-R-0043-40    122\n",
       "KOW-CC04-R-0043-42    119\n",
       "KOW-CC04-R-0043-39    107\n",
       "KOW-CC04-R-0043-44     90\n",
       "KOW-CC04-R-0043-46     43\n",
       "Name: variant_sku, dtype: int64"
      ]
     },
     "execution_count": 4,
     "metadata": {},
     "output_type": "execute_result"
    }
   ],
   "source": [
    "data[data['Style']=='Cocoon']['variant_sku'].value_counts()"
   ]
  },
  {
   "cell_type": "code",
   "execution_count": 7,
   "id": "7a667046-1f8a-4144-a2b6-594cee386d26",
   "metadata": {
    "tags": []
   },
   "outputs": [
    {
     "data": {
      "text/plain": [
       "Shopflo x Kingdom of White    251\n",
       "Online Store                  217\n",
       "Draft Orders                   13\n",
       "Name: api_client_title, dtype: int64"
      ]
     },
     "execution_count": 7,
     "metadata": {},
     "output_type": "execute_result"
    }
   ],
   "source": [
    "data[data['Style']=='Cocoon']['api_client_title'].value_counts()"
   ]
  },
  {
   "cell_type": "code",
   "execution_count": 8,
   "id": "9d596de0-bd4a-4486-8826-05ed6325becd",
   "metadata": {
    "tags": []
   },
   "outputs": [
    {
     "data": {
      "text/plain": [
       "Index(['day', 'Month', 'Week', 'Parent', 'variant_sku', 'Style', 'Size', 'Occ',\n",
       "       'MRP', 'MRP Bracket', 'order_name', 'api_client_title', 'orders',\n",
       "       'gross_sales', 'discounts', 'returns', 'net_sales', 'shipping',\n",
       "       'duties', 'additional_fees', 'taxes', 'total_sales', 'net_quantity',\n",
       "       'Total', 'Discount', 'Dis %ge'],\n",
       "      dtype='object')"
      ]
     },
     "execution_count": 8,
     "metadata": {},
     "output_type": "execute_result"
    }
   ],
   "source": [
    "data.columns"
   ]
  },
  {
   "cell_type": "code",
   "execution_count": 9,
   "id": "096464a2-d349-4ecb-aca7-0c01ac432cde",
   "metadata": {
    "tags": []
   },
   "outputs": [],
   "source": [
    "df=data[['day','Size','api_client_title','net_quantity','Dis %ge']][data['Style']=='Cocoon']"
   ]
  },
  {
   "cell_type": "code",
   "execution_count": 10,
   "id": "dc60d611-890b-4297-9d4b-a16fb086d9df",
   "metadata": {
    "tags": []
   },
   "outputs": [
    {
     "data": {
      "text/html": [
       "<div>\n",
       "<style scoped>\n",
       "    .dataframe tbody tr th:only-of-type {\n",
       "        vertical-align: middle;\n",
       "    }\n",
       "\n",
       "    .dataframe tbody tr th {\n",
       "        vertical-align: top;\n",
       "    }\n",
       "\n",
       "    .dataframe thead th {\n",
       "        text-align: right;\n",
       "    }\n",
       "</style>\n",
       "<table border=\"1\" class=\"dataframe\">\n",
       "  <thead>\n",
       "    <tr style=\"text-align: right;\">\n",
       "      <th></th>\n",
       "      <th>day</th>\n",
       "      <th>Size</th>\n",
       "      <th>api_client_title</th>\n",
       "      <th>net_quantity</th>\n",
       "      <th>Dis %ge</th>\n",
       "    </tr>\n",
       "  </thead>\n",
       "  <tbody>\n",
       "    <tr>\n",
       "      <th>1226</th>\n",
       "      <td>2023-03-03</td>\n",
       "      <td>44</td>\n",
       "      <td>Draft Orders</td>\n",
       "      <td>1</td>\n",
       "      <td>0.000000</td>\n",
       "    </tr>\n",
       "    <tr>\n",
       "      <th>1228</th>\n",
       "      <td>2023-03-03</td>\n",
       "      <td>39</td>\n",
       "      <td>Online Store</td>\n",
       "      <td>1</td>\n",
       "      <td>0.000000</td>\n",
       "    </tr>\n",
       "    <tr>\n",
       "      <th>1229</th>\n",
       "      <td>2023-03-03</td>\n",
       "      <td>39</td>\n",
       "      <td>Online Store</td>\n",
       "      <td>1</td>\n",
       "      <td>0.000000</td>\n",
       "    </tr>\n",
       "    <tr>\n",
       "      <th>1230</th>\n",
       "      <td>2023-03-03</td>\n",
       "      <td>39</td>\n",
       "      <td>Draft Orders</td>\n",
       "      <td>1</td>\n",
       "      <td>0.000000</td>\n",
       "    </tr>\n",
       "    <tr>\n",
       "      <th>1232</th>\n",
       "      <td>2023-03-03</td>\n",
       "      <td>40</td>\n",
       "      <td>Online Store</td>\n",
       "      <td>1</td>\n",
       "      <td>0.000000</td>\n",
       "    </tr>\n",
       "    <tr>\n",
       "      <th>...</th>\n",
       "      <td>...</td>\n",
       "      <td>...</td>\n",
       "      <td>...</td>\n",
       "      <td>...</td>\n",
       "      <td>...</td>\n",
       "    </tr>\n",
       "    <tr>\n",
       "      <th>6113</th>\n",
       "      <td>2023-07-02</td>\n",
       "      <td>42</td>\n",
       "      <td>Online Store</td>\n",
       "      <td>1</td>\n",
       "      <td>0.320061</td>\n",
       "    </tr>\n",
       "    <tr>\n",
       "      <th>6114</th>\n",
       "      <td>2023-07-02</td>\n",
       "      <td>42</td>\n",
       "      <td>Online Store</td>\n",
       "      <td>1</td>\n",
       "      <td>0.200071</td>\n",
       "    </tr>\n",
       "    <tr>\n",
       "      <th>6137</th>\n",
       "      <td>2023-07-02</td>\n",
       "      <td>44</td>\n",
       "      <td>Online Store</td>\n",
       "      <td>1</td>\n",
       "      <td>0.200071</td>\n",
       "    </tr>\n",
       "    <tr>\n",
       "      <th>6158</th>\n",
       "      <td>2023-07-02</td>\n",
       "      <td>39</td>\n",
       "      <td>Online Store</td>\n",
       "      <td>1</td>\n",
       "      <td>0.280064</td>\n",
       "    </tr>\n",
       "    <tr>\n",
       "      <th>6195</th>\n",
       "      <td>2023-07-02</td>\n",
       "      <td>40</td>\n",
       "      <td>Online Store</td>\n",
       "      <td>1</td>\n",
       "      <td>0.320061</td>\n",
       "    </tr>\n",
       "  </tbody>\n",
       "</table>\n",
       "<p>481 rows × 5 columns</p>\n",
       "</div>"
      ],
      "text/plain": [
       "            day Size api_client_title  net_quantity   Dis %ge\n",
       "1226 2023-03-03   44     Draft Orders             1  0.000000\n",
       "1228 2023-03-03   39     Online Store             1  0.000000\n",
       "1229 2023-03-03   39     Online Store             1  0.000000\n",
       "1230 2023-03-03   39     Draft Orders             1  0.000000\n",
       "1232 2023-03-03   40     Online Store             1  0.000000\n",
       "...         ...  ...              ...           ...       ...\n",
       "6113 2023-07-02   42     Online Store             1  0.320061\n",
       "6114 2023-07-02   42     Online Store             1  0.200071\n",
       "6137 2023-07-02   44     Online Store             1  0.200071\n",
       "6158 2023-07-02   39     Online Store             1  0.280064\n",
       "6195 2023-07-02   40     Online Store             1  0.320061\n",
       "\n",
       "[481 rows x 5 columns]"
      ]
     },
     "execution_count": 10,
     "metadata": {},
     "output_type": "execute_result"
    }
   ],
   "source": [
    "df"
   ]
  },
  {
   "cell_type": "code",
   "execution_count": 11,
   "id": "2d8e3049-93da-4a15-83ab-8af7d9978eb8",
   "metadata": {
    "tags": []
   },
   "outputs": [],
   "source": [
    "df.reset_index(inplace=True,drop=True)"
   ]
  },
  {
   "cell_type": "code",
   "execution_count": 12,
   "id": "fd7aa7fc-1058-491a-b8e8-f8cae13bd489",
   "metadata": {
    "tags": []
   },
   "outputs": [
    {
     "data": {
      "text/html": [
       "<div>\n",
       "<style scoped>\n",
       "    .dataframe tbody tr th:only-of-type {\n",
       "        vertical-align: middle;\n",
       "    }\n",
       "\n",
       "    .dataframe tbody tr th {\n",
       "        vertical-align: top;\n",
       "    }\n",
       "\n",
       "    .dataframe thead th {\n",
       "        text-align: right;\n",
       "    }\n",
       "</style>\n",
       "<table border=\"1\" class=\"dataframe\">\n",
       "  <thead>\n",
       "    <tr style=\"text-align: right;\">\n",
       "      <th></th>\n",
       "      <th>day</th>\n",
       "      <th>Size</th>\n",
       "      <th>api_client_title</th>\n",
       "      <th>net_quantity</th>\n",
       "      <th>Dis %ge</th>\n",
       "    </tr>\n",
       "  </thead>\n",
       "  <tbody>\n",
       "    <tr>\n",
       "      <th>0</th>\n",
       "      <td>2023-03-03</td>\n",
       "      <td>44</td>\n",
       "      <td>Draft Orders</td>\n",
       "      <td>1</td>\n",
       "      <td>0.000000</td>\n",
       "    </tr>\n",
       "    <tr>\n",
       "      <th>1</th>\n",
       "      <td>2023-03-03</td>\n",
       "      <td>39</td>\n",
       "      <td>Online Store</td>\n",
       "      <td>1</td>\n",
       "      <td>0.000000</td>\n",
       "    </tr>\n",
       "    <tr>\n",
       "      <th>2</th>\n",
       "      <td>2023-03-03</td>\n",
       "      <td>39</td>\n",
       "      <td>Online Store</td>\n",
       "      <td>1</td>\n",
       "      <td>0.000000</td>\n",
       "    </tr>\n",
       "    <tr>\n",
       "      <th>3</th>\n",
       "      <td>2023-03-03</td>\n",
       "      <td>39</td>\n",
       "      <td>Draft Orders</td>\n",
       "      <td>1</td>\n",
       "      <td>0.000000</td>\n",
       "    </tr>\n",
       "    <tr>\n",
       "      <th>4</th>\n",
       "      <td>2023-03-03</td>\n",
       "      <td>40</td>\n",
       "      <td>Online Store</td>\n",
       "      <td>1</td>\n",
       "      <td>0.000000</td>\n",
       "    </tr>\n",
       "    <tr>\n",
       "      <th>...</th>\n",
       "      <td>...</td>\n",
       "      <td>...</td>\n",
       "      <td>...</td>\n",
       "      <td>...</td>\n",
       "      <td>...</td>\n",
       "    </tr>\n",
       "    <tr>\n",
       "      <th>476</th>\n",
       "      <td>2023-07-02</td>\n",
       "      <td>42</td>\n",
       "      <td>Online Store</td>\n",
       "      <td>1</td>\n",
       "      <td>0.320061</td>\n",
       "    </tr>\n",
       "    <tr>\n",
       "      <th>477</th>\n",
       "      <td>2023-07-02</td>\n",
       "      <td>42</td>\n",
       "      <td>Online Store</td>\n",
       "      <td>1</td>\n",
       "      <td>0.200071</td>\n",
       "    </tr>\n",
       "    <tr>\n",
       "      <th>478</th>\n",
       "      <td>2023-07-02</td>\n",
       "      <td>44</td>\n",
       "      <td>Online Store</td>\n",
       "      <td>1</td>\n",
       "      <td>0.200071</td>\n",
       "    </tr>\n",
       "    <tr>\n",
       "      <th>479</th>\n",
       "      <td>2023-07-02</td>\n",
       "      <td>39</td>\n",
       "      <td>Online Store</td>\n",
       "      <td>1</td>\n",
       "      <td>0.280064</td>\n",
       "    </tr>\n",
       "    <tr>\n",
       "      <th>480</th>\n",
       "      <td>2023-07-02</td>\n",
       "      <td>40</td>\n",
       "      <td>Online Store</td>\n",
       "      <td>1</td>\n",
       "      <td>0.320061</td>\n",
       "    </tr>\n",
       "  </tbody>\n",
       "</table>\n",
       "<p>481 rows × 5 columns</p>\n",
       "</div>"
      ],
      "text/plain": [
       "           day Size api_client_title  net_quantity   Dis %ge\n",
       "0   2023-03-03   44     Draft Orders             1  0.000000\n",
       "1   2023-03-03   39     Online Store             1  0.000000\n",
       "2   2023-03-03   39     Online Store             1  0.000000\n",
       "3   2023-03-03   39     Draft Orders             1  0.000000\n",
       "4   2023-03-03   40     Online Store             1  0.000000\n",
       "..         ...  ...              ...           ...       ...\n",
       "476 2023-07-02   42     Online Store             1  0.320061\n",
       "477 2023-07-02   42     Online Store             1  0.200071\n",
       "478 2023-07-02   44     Online Store             1  0.200071\n",
       "479 2023-07-02   39     Online Store             1  0.280064\n",
       "480 2023-07-02   40     Online Store             1  0.320061\n",
       "\n",
       "[481 rows x 5 columns]"
      ]
     },
     "execution_count": 12,
     "metadata": {},
     "output_type": "execute_result"
    }
   ],
   "source": [
    "df"
   ]
  },
  {
   "cell_type": "code",
   "execution_count": 13,
   "id": "720142c5-30c6-490f-9be2-0deb0ca3a73e",
   "metadata": {},
   "outputs": [],
   "source": [
    "df.set_index('day',drop=True,inplace=True)"
   ]
  },
  {
   "cell_type": "code",
   "execution_count": 14,
   "id": "3a54c5c2-7778-4aea-858f-2d7632c5ffd0",
   "metadata": {
    "tags": []
   },
   "outputs": [
    {
     "data": {
      "text/html": [
       "<div>\n",
       "<style scoped>\n",
       "    .dataframe tbody tr th:only-of-type {\n",
       "        vertical-align: middle;\n",
       "    }\n",
       "\n",
       "    .dataframe tbody tr th {\n",
       "        vertical-align: top;\n",
       "    }\n",
       "\n",
       "    .dataframe thead th {\n",
       "        text-align: right;\n",
       "    }\n",
       "</style>\n",
       "<table border=\"1\" class=\"dataframe\">\n",
       "  <thead>\n",
       "    <tr style=\"text-align: right;\">\n",
       "      <th></th>\n",
       "      <th>Size</th>\n",
       "      <th>api_client_title</th>\n",
       "      <th>net_quantity</th>\n",
       "      <th>Dis %ge</th>\n",
       "    </tr>\n",
       "    <tr>\n",
       "      <th>day</th>\n",
       "      <th></th>\n",
       "      <th></th>\n",
       "      <th></th>\n",
       "      <th></th>\n",
       "    </tr>\n",
       "  </thead>\n",
       "  <tbody>\n",
       "    <tr>\n",
       "      <th>2023-03-03</th>\n",
       "      <td>44</td>\n",
       "      <td>Draft Orders</td>\n",
       "      <td>1</td>\n",
       "      <td>0.000000</td>\n",
       "    </tr>\n",
       "    <tr>\n",
       "      <th>2023-03-03</th>\n",
       "      <td>39</td>\n",
       "      <td>Online Store</td>\n",
       "      <td>1</td>\n",
       "      <td>0.000000</td>\n",
       "    </tr>\n",
       "    <tr>\n",
       "      <th>2023-03-03</th>\n",
       "      <td>39</td>\n",
       "      <td>Online Store</td>\n",
       "      <td>1</td>\n",
       "      <td>0.000000</td>\n",
       "    </tr>\n",
       "    <tr>\n",
       "      <th>2023-03-03</th>\n",
       "      <td>39</td>\n",
       "      <td>Draft Orders</td>\n",
       "      <td>1</td>\n",
       "      <td>0.000000</td>\n",
       "    </tr>\n",
       "    <tr>\n",
       "      <th>2023-03-03</th>\n",
       "      <td>40</td>\n",
       "      <td>Online Store</td>\n",
       "      <td>1</td>\n",
       "      <td>0.000000</td>\n",
       "    </tr>\n",
       "    <tr>\n",
       "      <th>...</th>\n",
       "      <td>...</td>\n",
       "      <td>...</td>\n",
       "      <td>...</td>\n",
       "      <td>...</td>\n",
       "    </tr>\n",
       "    <tr>\n",
       "      <th>2023-07-02</th>\n",
       "      <td>42</td>\n",
       "      <td>Online Store</td>\n",
       "      <td>1</td>\n",
       "      <td>0.320061</td>\n",
       "    </tr>\n",
       "    <tr>\n",
       "      <th>2023-07-02</th>\n",
       "      <td>42</td>\n",
       "      <td>Online Store</td>\n",
       "      <td>1</td>\n",
       "      <td>0.200071</td>\n",
       "    </tr>\n",
       "    <tr>\n",
       "      <th>2023-07-02</th>\n",
       "      <td>44</td>\n",
       "      <td>Online Store</td>\n",
       "      <td>1</td>\n",
       "      <td>0.200071</td>\n",
       "    </tr>\n",
       "    <tr>\n",
       "      <th>2023-07-02</th>\n",
       "      <td>39</td>\n",
       "      <td>Online Store</td>\n",
       "      <td>1</td>\n",
       "      <td>0.280064</td>\n",
       "    </tr>\n",
       "    <tr>\n",
       "      <th>2023-07-02</th>\n",
       "      <td>40</td>\n",
       "      <td>Online Store</td>\n",
       "      <td>1</td>\n",
       "      <td>0.320061</td>\n",
       "    </tr>\n",
       "  </tbody>\n",
       "</table>\n",
       "<p>481 rows × 4 columns</p>\n",
       "</div>"
      ],
      "text/plain": [
       "           Size api_client_title  net_quantity   Dis %ge\n",
       "day                                                     \n",
       "2023-03-03   44     Draft Orders             1  0.000000\n",
       "2023-03-03   39     Online Store             1  0.000000\n",
       "2023-03-03   39     Online Store             1  0.000000\n",
       "2023-03-03   39     Draft Orders             1  0.000000\n",
       "2023-03-03   40     Online Store             1  0.000000\n",
       "...         ...              ...           ...       ...\n",
       "2023-07-02   42     Online Store             1  0.320061\n",
       "2023-07-02   42     Online Store             1  0.200071\n",
       "2023-07-02   44     Online Store             1  0.200071\n",
       "2023-07-02   39     Online Store             1  0.280064\n",
       "2023-07-02   40     Online Store             1  0.320061\n",
       "\n",
       "[481 rows x 4 columns]"
      ]
     },
     "execution_count": 14,
     "metadata": {},
     "output_type": "execute_result"
    }
   ],
   "source": [
    "df"
   ]
  },
  {
   "cell_type": "code",
   "execution_count": 15,
   "id": "2bb51348-f558-461e-8a78-7ccdb6b209c0",
   "metadata": {
    "tags": []
   },
   "outputs": [
    {
     "data": {
      "text/plain": [
       " 1    467\n",
       "-1      8\n",
       " 2      5\n",
       " 3      1\n",
       "Name: net_quantity, dtype: int64"
      ]
     },
     "execution_count": 15,
     "metadata": {},
     "output_type": "execute_result"
    }
   ],
   "source": [
    "df['net_quantity'].value_counts()"
   ]
  },
  {
   "cell_type": "code",
   "execution_count": 16,
   "id": "cfec207d-e121-4aaf-ad4f-bf27b43e8fa7",
   "metadata": {
    "tags": []
   },
   "outputs": [],
   "source": [
    "df_final=df[['net_quantity']]"
   ]
  },
  {
   "cell_type": "code",
   "execution_count": 17,
   "id": "fc94304f-666b-4fb1-b0dc-d410614b86fd",
   "metadata": {
    "tags": []
   },
   "outputs": [],
   "source": [
    "data_final=df_final.groupby(df_final.index).sum()"
   ]
  },
  {
   "cell_type": "code",
   "execution_count": 18,
   "id": "7de893bd",
   "metadata": {},
   "outputs": [],
   "source": [
    "df_new=data_final.copy()"
   ]
  },
  {
   "cell_type": "code",
   "execution_count": 19,
   "id": "5fe42999",
   "metadata": {},
   "outputs": [],
   "source": [
    "df_new['discount']=df[['Dis %ge']].groupby(df_final.index).mean()"
   ]
  },
  {
   "cell_type": "code",
   "execution_count": 20,
   "id": "1ac1cc20",
   "metadata": {},
   "outputs": [
    {
     "data": {
      "text/html": [
       "<div>\n",
       "<style scoped>\n",
       "    .dataframe tbody tr th:only-of-type {\n",
       "        vertical-align: middle;\n",
       "    }\n",
       "\n",
       "    .dataframe tbody tr th {\n",
       "        vertical-align: top;\n",
       "    }\n",
       "\n",
       "    .dataframe thead th {\n",
       "        text-align: right;\n",
       "    }\n",
       "</style>\n",
       "<table border=\"1\" class=\"dataframe\">\n",
       "  <thead>\n",
       "    <tr style=\"text-align: right;\">\n",
       "      <th></th>\n",
       "      <th>net_quantity</th>\n",
       "      <th>discount</th>\n",
       "    </tr>\n",
       "    <tr>\n",
       "      <th>day</th>\n",
       "      <th></th>\n",
       "      <th></th>\n",
       "    </tr>\n",
       "  </thead>\n",
       "  <tbody>\n",
       "    <tr>\n",
       "      <th>2023-03-03</th>\n",
       "      <td>8</td>\n",
       "      <td>0.0</td>\n",
       "    </tr>\n",
       "    <tr>\n",
       "      <th>2023-03-04</th>\n",
       "      <td>1</td>\n",
       "      <td>0.0</td>\n",
       "    </tr>\n",
       "    <tr>\n",
       "      <th>2023-03-10</th>\n",
       "      <td>2</td>\n",
       "      <td>0.0</td>\n",
       "    </tr>\n",
       "    <tr>\n",
       "      <th>2023-03-11</th>\n",
       "      <td>2</td>\n",
       "      <td>0.0</td>\n",
       "    </tr>\n",
       "    <tr>\n",
       "      <th>2023-03-12</th>\n",
       "      <td>0</td>\n",
       "      <td>0.0</td>\n",
       "    </tr>\n",
       "  </tbody>\n",
       "</table>\n",
       "</div>"
      ],
      "text/plain": [
       "            net_quantity  discount\n",
       "day                               \n",
       "2023-03-03             8       0.0\n",
       "2023-03-04             1       0.0\n",
       "2023-03-10             2       0.0\n",
       "2023-03-11             2       0.0\n",
       "2023-03-12             0       0.0"
      ]
     },
     "execution_count": 20,
     "metadata": {},
     "output_type": "execute_result"
    }
   ],
   "source": [
    "df_new.head()"
   ]
  },
  {
   "cell_type": "code",
   "execution_count": 21,
   "id": "0cce2f56-54ec-4325-b63e-56cac7a1778c",
   "metadata": {
    "tags": []
   },
   "outputs": [
    {
     "data": {
      "text/plain": [
       "(102, 1)"
      ]
     },
     "execution_count": 21,
     "metadata": {},
     "output_type": "execute_result"
    }
   ],
   "source": [
    "data_final.shape"
   ]
  },
  {
   "cell_type": "code",
   "execution_count": 22,
   "id": "a668bb6d-2067-4a80-918a-50ece222611d",
   "metadata": {
    "tags": []
   },
   "outputs": [
    {
     "data": {
      "text/plain": [
       "<Axes: xlabel='day'>"
      ]
     },
     "execution_count": 22,
     "metadata": {},
     "output_type": "execute_result"
    },
    {
     "data": {
      "image/png": "[encoded data removed]",
      "text/plain": [
       "<Figure size 1600x400 with 1 Axes>"
      ]
     },
     "metadata": {},
     "output_type": "display_data"
    }
   ],
   "source": [
    "\n",
    "data_final.plot(figsize=(16,4))"
   ]
  },
  {
   "cell_type": "code",
   "execution_count": 24,
   "id": "b039a8b4",
   "metadata": {},
   "outputs": [],
   "source": [
    "!pip install statsmodels -q"
   ]
  },
  {
   "cell_type": "code",
   "execution_count": 24,
   "id": "56206fb8-759c-4a39-bea4-747cbd1dbae1",
   "metadata": {
    "scrolled": true,
    "tags": []
   },
   "outputs": [],
   "source": [
    "from statsmodels.tsa.stattools import adfuller"
   ]
  },
  {
   "cell_type": "code",
   "execution_count": 25,
   "id": "eeffd377-60b7-43af-876a-518cdf3f52ac",
   "metadata": {
    "tags": []
   },
   "outputs": [
    {
     "data": {
      "text/plain": [
       "(-3.7691304595131796,\n",
       " 0.0032394210466923524,\n",
       " 1,\n",
       " 100,\n",
       " {'1%': -3.497501033, '5%': -2.89090644, '10%': -2.5824349},\n",
       " 457.63473373330567)"
      ]
     },
     "execution_count": 25,
     "metadata": {},
     "output_type": "execute_result"
    }
   ],
   "source": [
    "adfuller(data_final['net_quantity'])"
   ]
  },
  {
   "cell_type": "code",
   "execution_count": 26,
   "id": "9d3ee162-00cb-4dd3-b38c-8e0d6c29bb48",
   "metadata": {
    "tags": []
   },
   "outputs": [],
   "source": [
    "from statsmodels.tsa.ar_model import AutoReg"
   ]
  },
  {
   "cell_type": "code",
   "execution_count": 27,
   "id": "25a4c3e6-40c9-49fa-8553-ed7e733607e6",
   "metadata": {
    "tags": []
   },
   "outputs": [],
   "source": [
    "from statsmodels.graphics.tsaplots import plot_acf,plot_pacf"
   ]
  },
  {
   "cell_type": "code",
   "execution_count": 28,
   "id": "3fcc398d-d821-433d-bded-6dcd4018ed2b",
   "metadata": {
    "tags": []
   },
   "outputs": [
    {
     "data": {
      "image/png": "[encoded data removed]",
      "text/plain": [
       "<Figure size 640x480 with 1 Axes>"
      ]
     },
     "execution_count": 28,
     "metadata": {},
     "output_type": "execute_result"
    },
    {
     "data": {
      "image/png": "[encoded data removed]",
      "text/plain": [
       "<Figure size 640x480 with 1 Axes>"
      ]
     },
     "metadata": {},
     "output_type": "display_data"
    }
   ],
   "source": [
    "plot_pacf(data_final['net_quantity'])"
   ]
  },
  {
   "cell_type": "code",
   "execution_count": 29,
   "id": "ca435d90-f190-4a29-b645-eb4a2770a397",
   "metadata": {
    "tags": []
   },
   "outputs": [
    {
     "data": {
      "text/plain": [
       "(102, 1)"
      ]
     },
     "execution_count": 29,
     "metadata": {},
     "output_type": "execute_result"
    }
   ],
   "source": [
    "data_final.shape"
   ]
  },
  {
   "cell_type": "code",
   "execution_count": 30,
   "id": "ddbfefab-9bee-4599-9ba1-e3617b5b073d",
   "metadata": {
    "tags": []
   },
   "outputs": [],
   "source": [
    "train=data_final[:-10]\n",
    "test=data_final[-10:]"
   ]
  },
  {
   "cell_type": "code",
   "execution_count": 31,
   "id": "8a989db4-5875-4ae1-95d0-8d82b8998278",
   "metadata": {
    "tags": []
   },
   "outputs": [
    {
     "name": "stderr",
     "output_type": "stream",
     "text": [
      "C:\\Users\\Shubham\\anaconda3\\envs\\ml_env\\lib\\site-packages\\statsmodels\\tsa\\base\\tsa_model.py:473: ValueWarning: A date index has been provided, but it has no associated frequency information and so will be ignored when e.g. forecasting.\n",
      "  self._init_dates(dates, freq)\n"
     ]
    }
   ],
   "source": [
    "ar_model=AutoReg(train,lags=2).fit()"
   ]
  },
  {
   "cell_type": "code",
   "execution_count": 165,
   "id": "7a263dce-8d4b-476d-8faa-54e5e5f18a0e",
   "metadata": {
    "tags": []
   },
   "outputs": [
    {
     "data": {
      "text/html": [
       "<table class=\"simpletable\">\n",
       "<caption>AutoReg Model Results</caption>\n",
       "<tr>\n",
       "  <th>Dep. Variable:</th>   <td>net_quantity</td>   <th>  No. Observations:  </th>    <td>92</td>   \n",
       "</tr>\n",
       "<tr>\n",
       "  <th>Model:</th>            <td>AutoReg(2)</td>    <th>  Log Likelihood     </th> <td>-228.378</td>\n",
       "</tr>\n",
       "<tr>\n",
       "  <th>Method:</th>         <td>Conditional MLE</td> <th>  S.D. of innovations</th>   <td>3.061</td> \n",
       "</tr>\n",
       "<tr>\n",
       "  <th>Date:</th>          <td>Mon, 31 Jul 2023</td> <th>  AIC                </th>  <td>464.755</td>\n",
       "</tr>\n",
       "<tr>\n",
       "  <th>Time:</th>              <td>17:11:51</td>     <th>  BIC                </th>  <td>474.754</td>\n",
       "</tr>\n",
       "<tr>\n",
       "  <th>Sample:</th>                <td>2</td>        <th>  HQIC               </th>  <td>468.787</td>\n",
       "</tr>\n",
       "<tr>\n",
       "  <th></th>                      <td>92</td>        <th>                     </th>     <td> </td>   \n",
       "</tr>\n",
       "</table>\n",
       "<table class=\"simpletable\">\n",
       "<tr>\n",
       "         <td></td>            <th>coef</th>     <th>std err</th>      <th>z</th>      <th>P>|z|</th>  <th>[0.025</th>    <th>0.975]</th>  \n",
       "</tr>\n",
       "<tr>\n",
       "  <th>const</th>           <td>    1.8858</td> <td>    0.614</td> <td>    3.069</td> <td> 0.002</td> <td>    0.682</td> <td>    3.090</td>\n",
       "</tr>\n",
       "<tr>\n",
       "  <th>net_quantity.L1</th> <td>    0.2929</td> <td>    0.099</td> <td>    2.963</td> <td> 0.003</td> <td>    0.099</td> <td>    0.487</td>\n",
       "</tr>\n",
       "<tr>\n",
       "  <th>net_quantity.L2</th> <td>    0.3087</td> <td>    0.099</td> <td>    3.117</td> <td> 0.002</td> <td>    0.115</td> <td>    0.503</td>\n",
       "</tr>\n",
       "</table>\n",
       "<table class=\"simpletable\">\n",
       "<caption>Roots</caption>\n",
       "<tr>\n",
       "    <td></td>   <th>            Real</th>  <th>         Imaginary</th> <th>         Modulus</th>  <th>        Frequency</th>\n",
       "</tr>\n",
       "<tr>\n",
       "  <th>AR.1</th> <td>           1.3868</td> <td>          +0.0000j</td> <td>           1.3868</td> <td>           0.0000</td>\n",
       "</tr>\n",
       "<tr>\n",
       "  <th>AR.2</th> <td>          -2.3355</td> <td>          +0.0000j</td> <td>           2.3355</td> <td>           0.5000</td>\n",
       "</tr>\n",
       "</table>"
      ],
      "text/latex": [
       "\\begin{center}\n",
       "\\begin{tabular}{lclc}\n",
       "\\toprule\n",
       "\\textbf{Dep. Variable:}   &       net\\_quantity       & \\textbf{  No. Observations:  } &             92             \\\\\n",
       "\\textbf{Model:}           &         AutoReg(2)        & \\textbf{  Log Likelihood     } &          -228.378          \\\\\n",
       "\\textbf{Method:}          &      Conditional MLE      & \\textbf{  S.D. of innovations} &           3.061            \\\\\n",
       "\\textbf{Date:}            &      Mon, 31 Jul 2023     & \\textbf{  AIC                } &          464.755           \\\\\n",
       "\\textbf{Time:}            &          17:11:51         & \\textbf{  BIC                } &          474.754           \\\\\n",
       "\\textbf{Sample:}          &             2             & \\textbf{  HQIC               } &          468.787           \\\\\n",
       "\\textbf{}                 &             92            & \\textbf{                     } &                            \\\\\n",
       "\\bottomrule\n",
       "\\end{tabular}\n",
       "\\begin{tabular}{lcccccc}\n",
       "                          & \\textbf{coef} & \\textbf{std err} & \\textbf{z} & \\textbf{P$> |$z$|$} & \\textbf{[0.025} & \\textbf{0.975]}  \\\\\n",
       "\\midrule\n",
       "\\textbf{const}            &       1.8858  &        0.614     &     3.069  &         0.002        &        0.682    &        3.090     \\\\\n",
       "\\textbf{net\\_quantity.L1} &       0.2929  &        0.099     &     2.963  &         0.003        &        0.099    &        0.487     \\\\\n",
       "\\textbf{net\\_quantity.L2} &       0.3087  &        0.099     &     3.117  &         0.002        &        0.115    &        0.503     \\\\\n",
       "\\bottomrule\n",
       "\\end{tabular}\n",
       "\\begin{tabular}{lcccc}\n",
       "              & \\textbf{            Real} & \\textbf{         Imaginary} & \\textbf{         Modulus} & \\textbf{        Frequency}  \\\\\n",
       "\\midrule\n",
       "\\textbf{AR.1} &                1.3868     &                +0.0000j     &                1.3868     &                0.0000       \\\\\n",
       "\\textbf{AR.2} &               -2.3355     &                +0.0000j     &                2.3355     &                0.5000       \\\\\n",
       "\\bottomrule\n",
       "\\end{tabular}\n",
       "%\\caption{AutoReg Model Results}\n",
       "\\end{center}"
      ],
      "text/plain": [
       "<class 'statsmodels.iolib.summary.Summary'>\n",
       "\"\"\"\n",
       "                            AutoReg Model Results                             \n",
       "==============================================================================\n",
       "Dep. Variable:           net_quantity   No. Observations:                   92\n",
       "Model:                     AutoReg(2)   Log Likelihood                -228.378\n",
       "Method:               Conditional MLE   S.D. of innovations              3.061\n",
       "Date:                Mon, 31 Jul 2023   AIC                            464.755\n",
       "Time:                        17:11:51   BIC                            474.754\n",
       "Sample:                             2   HQIC                           468.787\n",
       "                                   92                                         \n",
       "===================================================================================\n",
       "                      coef    std err          z      P>|z|      [0.025      0.975]\n",
       "-----------------------------------------------------------------------------------\n",
       "const               1.8858      0.614      3.069      0.002       0.682       3.090\n",
       "net_quantity.L1     0.2929      0.099      2.963      0.003       0.099       0.487\n",
       "net_quantity.L2     0.3087      0.099      3.117      0.002       0.115       0.503\n",
       "                                    Roots                                    \n",
       "=============================================================================\n",
       "                  Real          Imaginary           Modulus         Frequency\n",
       "-----------------------------------------------------------------------------\n",
       "AR.1            1.3868           +0.0000j            1.3868            0.0000\n",
       "AR.2           -2.3355           +0.0000j            2.3355            0.5000\n",
       "-----------------------------------------------------------------------------\n",
       "\"\"\""
      ]
     },
     "execution_count": 165,
     "metadata": {},
     "output_type": "execute_result"
    }
   ],
   "source": [
    "ar_model.summary()"
   ]
  },
  {
   "cell_type": "code",
   "execution_count": 166,
   "id": "413ea878-de18-4328-94f0-94dd9edb5986",
   "metadata": {
    "tags": []
   },
   "outputs": [],
   "source": [
    "predict_ar=ar_model.predict(start=len(train),end=data_final.shape[0]-1,dynamic=False)"
   ]
  },
  {
   "cell_type": "code",
   "execution_count": 167,
   "id": "e390336e-f196-435b-97fe-e34d56f3749c",
   "metadata": {
    "tags": []
   },
   "outputs": [
    {
     "data": {
      "text/plain": [
       "array([2.78040498, 3.31774837, 3.71609466, 3.99868146, 4.20444501,\n",
       "       4.35196511, 4.45870558, 4.53551839, 4.5909742 , 4.63093404])"
      ]
     },
     "execution_count": 167,
     "metadata": {},
     "output_type": "execute_result"
    }
   ],
   "source": [
    "predict_ar.values"
   ]
  },
  {
   "cell_type": "code",
   "execution_count": 168,
   "id": "7cf54e39-0918-4533-8c30-9d0555320dfe",
   "metadata": {
    "tags": []
   },
   "outputs": [
    {
     "data": {
      "text/plain": [
       "array([ 4,  1,  1,  3,  1, -1,  6,  2,  9,  7], dtype=int64)"
      ]
     },
     "execution_count": 168,
     "metadata": {},
     "output_type": "execute_result"
    }
   ],
   "source": [
    "test.values.reshape((1,-1)).flatten()"
   ]
  },
  {
   "cell_type": "code",
   "execution_count": 169,
   "id": "f1053a2a-a9a0-496c-800e-5b903ad52d93",
   "metadata": {
    "tags": []
   },
   "outputs": [],
   "source": [
    "from matplotlib import pyplot as plt"
   ]
  },
  {
   "cell_type": "code",
   "execution_count": 170,
   "id": "3dfd5fa1-3c31-4ee6-870a-41b7031f76d2",
   "metadata": {
    "tags": []
   },
   "outputs": [
    {
     "data": {
      "image/png": "[encoded data removed]",
      "text/plain": [
       "<Figure size 640x480 with 1 Axes>"
      ]
     },
     "metadata": {},
     "output_type": "display_data"
    }
   ],
   "source": [
    "plt.plot(test.values.reshape((1,-1)).flatten(),label='actual')\n",
    "plt.plot(predict_ar.values,label='predicted')\n",
    "\n",
    "plt.legend(loc='upper left')\n",
    "plt.show()"
   ]
  },
  {
   "cell_type": "code",
   "execution_count": 171,
   "id": "acc834b3-e0a0-48d8-b9c3-8cb79a193c0e",
   "metadata": {
    "tags": []
   },
   "outputs": [],
   "source": [
    "from sklearn.metrics import mean_squared_error\n",
    "from math import sqrt"
   ]
  },
  {
   "cell_type": "code",
   "execution_count": 172,
   "id": "f51f5895-5dda-458e-b7f0-c16ff27f139d",
   "metadata": {},
   "outputs": [],
   "source": [
    "rmse_ar=sqrt(mean_squared_error(test.values.reshape((1,-1)).flatten(),predict_ar.values))"
   ]
  },
  {
   "cell_type": "code",
   "execution_count": 173,
   "id": "63c42525",
   "metadata": {},
   "outputs": [
    {
     "data": {
      "text/plain": [
       "4.058547179659461"
      ]
     },
     "execution_count": 173,
     "metadata": {},
     "output_type": "execute_result"
    }
   ],
   "source": [
    "predict_ar.values.mean()"
   ]
  },
  {
   "cell_type": "code",
   "execution_count": 174,
   "id": "6638edf2",
   "metadata": {},
   "outputs": [
    {
     "data": {
      "text/plain": [
       "2.9665186114512716"
      ]
     },
     "execution_count": 174,
     "metadata": {},
     "output_type": "execute_result"
    }
   ],
   "source": [
    "rmse_ar"
   ]
  },
  {
   "cell_type": "markdown",
   "id": "ff58aefd",
   "metadata": {},
   "source": [
    "note : here rmse is not in range of 10% of mean hence bad prediction"
   ]
  },
  {
   "cell_type": "markdown",
   "id": "28789e9a",
   "metadata": {},
   "source": [
    "## ARIMA Model"
   ]
  },
  {
   "cell_type": "code",
   "execution_count": 175,
   "id": "9070c465",
   "metadata": {},
   "outputs": [],
   "source": [
    "from pmdarima import auto_arima"
   ]
  },
  {
   "cell_type": "code",
   "execution_count": 176,
   "id": "5ac132fd",
   "metadata": {},
   "outputs": [
    {
     "data": {
      "text/html": [
       "<div>\n",
       "<style scoped>\n",
       "    .dataframe tbody tr th:only-of-type {\n",
       "        vertical-align: middle;\n",
       "    }\n",
       "\n",
       "    .dataframe tbody tr th {\n",
       "        vertical-align: top;\n",
       "    }\n",
       "\n",
       "    .dataframe thead th {\n",
       "        text-align: right;\n",
       "    }\n",
       "</style>\n",
       "<table border=\"1\" class=\"dataframe\">\n",
       "  <thead>\n",
       "    <tr style=\"text-align: right;\">\n",
       "      <th></th>\n",
       "      <th>net_quantity</th>\n",
       "    </tr>\n",
       "    <tr>\n",
       "      <th>day</th>\n",
       "      <th></th>\n",
       "    </tr>\n",
       "  </thead>\n",
       "  <tbody>\n",
       "    <tr>\n",
       "      <th>2023-03-03</th>\n",
       "      <td>8</td>\n",
       "    </tr>\n",
       "    <tr>\n",
       "      <th>2023-03-04</th>\n",
       "      <td>1</td>\n",
       "    </tr>\n",
       "    <tr>\n",
       "      <th>2023-03-10</th>\n",
       "      <td>2</td>\n",
       "    </tr>\n",
       "    <tr>\n",
       "      <th>2023-03-11</th>\n",
       "      <td>2</td>\n",
       "    </tr>\n",
       "    <tr>\n",
       "      <th>2023-03-12</th>\n",
       "      <td>0</td>\n",
       "    </tr>\n",
       "  </tbody>\n",
       "</table>\n",
       "</div>"
      ],
      "text/plain": [
       "            net_quantity\n",
       "day                     \n",
       "2023-03-03             8\n",
       "2023-03-04             1\n",
       "2023-03-10             2\n",
       "2023-03-11             2\n",
       "2023-03-12             0"
      ]
     },
     "execution_count": 176,
     "metadata": {},
     "output_type": "execute_result"
    }
   ],
   "source": [
    "data_final.head()"
   ]
  },
  {
   "cell_type": "code",
   "execution_count": 177,
   "id": "57ff858c",
   "metadata": {},
   "outputs": [],
   "source": [
    "import warnings\n",
    "warnings.filterwarnings('ignore')"
   ]
  },
  {
   "cell_type": "code",
   "execution_count": 54,
   "id": "e7371fbf",
   "metadata": {},
   "outputs": [
    {
     "name": "stdout",
     "output_type": "stream",
     "text": [
      "Performing stepwise search to minimize aic\n",
      " ARIMA(2,0,2)(0,0,0)[0] intercept   : AIC=527.690, Time=0.11 sec\n",
      " ARIMA(0,0,0)(0,0,0)[0] intercept   : AIC=550.191, Time=0.01 sec\n",
      " ARIMA(1,0,0)(0,0,0)[0] intercept   : AIC=534.904, Time=0.02 sec\n",
      " ARIMA(0,0,1)(0,0,0)[0] intercept   : AIC=541.987, Time=0.03 sec\n",
      " ARIMA(0,0,0)(0,0,0)[0]             : AIC=650.562, Time=0.01 sec\n",
      " ARIMA(1,0,2)(0,0,0)[0] intercept   : AIC=526.637, Time=0.07 sec\n",
      " ARIMA(0,0,2)(0,0,0)[0] intercept   : AIC=533.744, Time=0.04 sec\n",
      " ARIMA(1,0,1)(0,0,0)[0] intercept   : AIC=525.162, Time=0.06 sec\n",
      " ARIMA(2,0,1)(0,0,0)[0] intercept   : AIC=526.449, Time=0.06 sec\n",
      " ARIMA(2,0,0)(0,0,0)[0] intercept   : AIC=525.849, Time=0.03 sec\n",
      " ARIMA(1,0,1)(0,0,0)[0]             : AIC=527.816, Time=0.03 sec\n",
      "\n",
      "Best model:  ARIMA(1,0,1)(0,0,0)[0] intercept\n",
      "Total fit time: 0.465 seconds\n"
     ]
    }
   ],
   "source": [
    "stepwise_fit=auto_arima(data_final['net_quantity'],trace=True,supress_warning=True)"
   ]
  },
  {
   "cell_type": "code",
   "execution_count": 74,
   "id": "22800300",
   "metadata": {},
   "outputs": [],
   "source": [
    "from statsmodels.tsa.arima.model import ARIMA"
   ]
  },
  {
   "cell_type": "code",
   "execution_count": 178,
   "id": "faadb0bc",
   "metadata": {},
   "outputs": [],
   "source": [
    "model_arima=ARIMA(train['net_quantity'],order=(1,0,1)).fit()"
   ]
  },
  {
   "cell_type": "code",
   "execution_count": 179,
   "id": "291b658c",
   "metadata": {},
   "outputs": [
    {
     "data": {
      "text/html": [
       "<table class=\"simpletable\">\n",
       "<caption>SARIMAX Results</caption>\n",
       "<tr>\n",
       "  <th>Dep. Variable:</th>     <td>net_quantity</td>   <th>  No. Observations:  </th>    <td>92</td>   \n",
       "</tr>\n",
       "<tr>\n",
       "  <th>Model:</th>            <td>ARIMA(1, 0, 1)</td>  <th>  Log Likelihood     </th> <td>-233.590</td>\n",
       "</tr>\n",
       "<tr>\n",
       "  <th>Date:</th>            <td>Mon, 31 Jul 2023</td> <th>  AIC                </th>  <td>475.179</td>\n",
       "</tr>\n",
       "<tr>\n",
       "  <th>Time:</th>                <td>17:12:28</td>     <th>  BIC                </th>  <td>485.266</td>\n",
       "</tr>\n",
       "<tr>\n",
       "  <th>Sample:</th>                  <td>0</td>        <th>  HQIC               </th>  <td>479.250</td>\n",
       "</tr>\n",
       "<tr>\n",
       "  <th></th>                       <td> - 92</td>      <th>                     </th>     <td> </td>   \n",
       "</tr>\n",
       "<tr>\n",
       "  <th>Covariance Type:</th>        <td>opg</td>       <th>                     </th>     <td> </td>   \n",
       "</tr>\n",
       "</table>\n",
       "<table class=\"simpletable\">\n",
       "<tr>\n",
       "     <td></td>       <th>coef</th>     <th>std err</th>      <th>z</th>      <th>P>|z|</th>  <th>[0.025</th>    <th>0.975]</th>  \n",
       "</tr>\n",
       "<tr>\n",
       "  <th>const</th>  <td>    4.4727</td> <td>    1.406</td> <td>    3.182</td> <td> 0.001</td> <td>    1.718</td> <td>    7.228</td>\n",
       "</tr>\n",
       "<tr>\n",
       "  <th>ar.L1</th>  <td>    0.9135</td> <td>    0.076</td> <td>   11.993</td> <td> 0.000</td> <td>    0.764</td> <td>    1.063</td>\n",
       "</tr>\n",
       "<tr>\n",
       "  <th>ma.L1</th>  <td>   -0.6794</td> <td>    0.133</td> <td>   -5.117</td> <td> 0.000</td> <td>   -0.940</td> <td>   -0.419</td>\n",
       "</tr>\n",
       "<tr>\n",
       "  <th>sigma2</th> <td>    9.3460</td> <td>    1.450</td> <td>    6.446</td> <td> 0.000</td> <td>    6.504</td> <td>   12.188</td>\n",
       "</tr>\n",
       "</table>\n",
       "<table class=\"simpletable\">\n",
       "<tr>\n",
       "  <th>Ljung-Box (L1) (Q):</th>     <td>0.02</td> <th>  Jarque-Bera (JB):  </th> <td>9.29</td>\n",
       "</tr>\n",
       "<tr>\n",
       "  <th>Prob(Q):</th>                <td>0.90</td> <th>  Prob(JB):          </th> <td>0.01</td>\n",
       "</tr>\n",
       "<tr>\n",
       "  <th>Heteroskedasticity (H):</th> <td>1.07</td> <th>  Skew:              </th> <td>0.74</td>\n",
       "</tr>\n",
       "<tr>\n",
       "  <th>Prob(H) (two-sided):</th>    <td>0.85</td> <th>  Kurtosis:          </th> <td>3.51</td>\n",
       "</tr>\n",
       "</table><br/><br/>Warnings:<br/>[1] Covariance matrix calculated using the outer product of gradients (complex-step)."
      ],
      "text/latex": [
       "\\begin{center}\n",
       "\\begin{tabular}{lclc}\n",
       "\\toprule\n",
       "\\textbf{Dep. Variable:}          &  net\\_quantity   & \\textbf{  No. Observations:  } &     92      \\\\\n",
       "\\textbf{Model:}                  &  ARIMA(1, 0, 1)  & \\textbf{  Log Likelihood     } &  -233.590   \\\\\n",
       "\\textbf{Date:}                   & Mon, 31 Jul 2023 & \\textbf{  AIC                } &  475.179    \\\\\n",
       "\\textbf{Time:}                   &     17:12:28     & \\textbf{  BIC                } &  485.266    \\\\\n",
       "\\textbf{Sample:}                 &        0         & \\textbf{  HQIC               } &  479.250    \\\\\n",
       "\\textbf{}                        &       - 92       & \\textbf{                     } &             \\\\\n",
       "\\textbf{Covariance Type:}        &       opg        & \\textbf{                     } &             \\\\\n",
       "\\bottomrule\n",
       "\\end{tabular}\n",
       "\\begin{tabular}{lcccccc}\n",
       "                & \\textbf{coef} & \\textbf{std err} & \\textbf{z} & \\textbf{P$> |$z$|$} & \\textbf{[0.025} & \\textbf{0.975]}  \\\\\n",
       "\\midrule\n",
       "\\textbf{const}  &       4.4727  &        1.406     &     3.182  &         0.001        &        1.718    &        7.228     \\\\\n",
       "\\textbf{ar.L1}  &       0.9135  &        0.076     &    11.993  &         0.000        &        0.764    &        1.063     \\\\\n",
       "\\textbf{ma.L1}  &      -0.6794  &        0.133     &    -5.117  &         0.000        &       -0.940    &       -0.419     \\\\\n",
       "\\textbf{sigma2} &       9.3460  &        1.450     &     6.446  &         0.000        &        6.504    &       12.188     \\\\\n",
       "\\bottomrule\n",
       "\\end{tabular}\n",
       "\\begin{tabular}{lclc}\n",
       "\\textbf{Ljung-Box (L1) (Q):}     & 0.02 & \\textbf{  Jarque-Bera (JB):  } & 9.29  \\\\\n",
       "\\textbf{Prob(Q):}                & 0.90 & \\textbf{  Prob(JB):          } & 0.01  \\\\\n",
       "\\textbf{Heteroskedasticity (H):} & 1.07 & \\textbf{  Skew:              } & 0.74  \\\\\n",
       "\\textbf{Prob(H) (two-sided):}    & 0.85 & \\textbf{  Kurtosis:          } & 3.51  \\\\\n",
       "\\bottomrule\n",
       "\\end{tabular}\n",
       "%\\caption{SARIMAX Results}\n",
       "\\end{center}\n",
       "\n",
       "Warnings: \\newline\n",
       " [1] Covariance matrix calculated using the outer product of gradients (complex-step)."
      ],
      "text/plain": [
       "<class 'statsmodels.iolib.summary.Summary'>\n",
       "\"\"\"\n",
       "                               SARIMAX Results                                \n",
       "==============================================================================\n",
       "Dep. Variable:           net_quantity   No. Observations:                   92\n",
       "Model:                 ARIMA(1, 0, 1)   Log Likelihood                -233.590\n",
       "Date:                Mon, 31 Jul 2023   AIC                            475.179\n",
       "Time:                        17:12:28   BIC                            485.266\n",
       "Sample:                             0   HQIC                           479.250\n",
       "                                 - 92                                         \n",
       "Covariance Type:                  opg                                         \n",
       "==============================================================================\n",
       "                 coef    std err          z      P>|z|      [0.025      0.975]\n",
       "------------------------------------------------------------------------------\n",
       "const          4.4727      1.406      3.182      0.001       1.718       7.228\n",
       "ar.L1          0.9135      0.076     11.993      0.000       0.764       1.063\n",
       "ma.L1         -0.6794      0.133     -5.117      0.000      -0.940      -0.419\n",
       "sigma2         9.3460      1.450      6.446      0.000       6.504      12.188\n",
       "===================================================================================\n",
       "Ljung-Box (L1) (Q):                   0.02   Jarque-Bera (JB):                 9.29\n",
       "Prob(Q):                              0.90   Prob(JB):                         0.01\n",
       "Heteroskedasticity (H):               1.07   Skew:                             0.74\n",
       "Prob(H) (two-sided):                  0.85   Kurtosis:                         3.51\n",
       "===================================================================================\n",
       "\n",
       "Warnings:\n",
       "[1] Covariance matrix calculated using the outer product of gradients (complex-step).\n",
       "\"\"\""
      ]
     },
     "execution_count": 179,
     "metadata": {},
     "output_type": "execute_result"
    }
   ],
   "source": [
    "model_arima.summary()"
   ]
  },
  {
   "cell_type": "code",
   "execution_count": 180,
   "id": "1870176a",
   "metadata": {},
   "outputs": [],
   "source": [
    "predict_arima=model_arima.predict(start=len(train),end=data_final.shape[0]-1,dynamic=False)"
   ]
  },
  {
   "cell_type": "code",
   "execution_count": 181,
   "id": "ebfc2cc0",
   "metadata": {},
   "outputs": [
    {
     "data": {
      "image/png": "[encoded data removed]",
      "text/plain": [
       "<Figure size 640x480 with 1 Axes>"
      ]
     },
     "metadata": {},
     "output_type": "display_data"
    }
   ],
   "source": [
    "plt.plot(test.values.reshape((1,-1)).flatten(),label='actual')\n",
    "plt.plot(predict_arima.values,label='predicted')\n",
    "\n",
    "plt.legend(loc='upper left')\n",
    "plt.show()"
   ]
  },
  {
   "cell_type": "code",
   "execution_count": 182,
   "id": "dd53e669",
   "metadata": {},
   "outputs": [
    {
     "data": {
      "text/plain": [
       "2.874115992900233"
      ]
     },
     "execution_count": 182,
     "metadata": {},
     "output_type": "execute_result"
    }
   ],
   "source": [
    "rmse_arima=sqrt(mean_squared_error(test.values.reshape((1,-1)).flatten(),predict_arima.values))\n",
    "rmse_arima"
   ]
  },
  {
   "cell_type": "code",
   "execution_count": 183,
   "id": "099e1444",
   "metadata": {},
   "outputs": [
    {
     "data": {
      "text/plain": [
       "3.3691676518668743"
      ]
     },
     "execution_count": 183,
     "metadata": {},
     "output_type": "execute_result"
    }
   ],
   "source": [
    "predict_arima.values.mean()"
   ]
  },
  {
   "cell_type": "markdown",
   "id": "9e09e68c",
   "metadata": {},
   "source": [
    "## TSA By ML"
   ]
  },
  {
   "cell_type": "code",
   "execution_count": 184,
   "id": "5dc56634",
   "metadata": {},
   "outputs": [
    {
     "data": {
      "text/html": [
       "<div>\n",
       "<style scoped>\n",
       "    .dataframe tbody tr th:only-of-type {\n",
       "        vertical-align: middle;\n",
       "    }\n",
       "\n",
       "    .dataframe tbody tr th {\n",
       "        vertical-align: top;\n",
       "    }\n",
       "\n",
       "    .dataframe thead th {\n",
       "        text-align: right;\n",
       "    }\n",
       "</style>\n",
       "<table border=\"1\" class=\"dataframe\">\n",
       "  <thead>\n",
       "    <tr style=\"text-align: right;\">\n",
       "      <th></th>\n",
       "      <th>net_quantity</th>\n",
       "    </tr>\n",
       "    <tr>\n",
       "      <th>day</th>\n",
       "      <th></th>\n",
       "    </tr>\n",
       "  </thead>\n",
       "  <tbody>\n",
       "    <tr>\n",
       "      <th>2023-03-03</th>\n",
       "      <td>8</td>\n",
       "    </tr>\n",
       "    <tr>\n",
       "      <th>2023-03-04</th>\n",
       "      <td>1</td>\n",
       "    </tr>\n",
       "    <tr>\n",
       "      <th>2023-03-10</th>\n",
       "      <td>2</td>\n",
       "    </tr>\n",
       "    <tr>\n",
       "      <th>2023-03-11</th>\n",
       "      <td>2</td>\n",
       "    </tr>\n",
       "    <tr>\n",
       "      <th>2023-03-12</th>\n",
       "      <td>0</td>\n",
       "    </tr>\n",
       "    <tr>\n",
       "      <th>...</th>\n",
       "      <td>...</td>\n",
       "    </tr>\n",
       "    <tr>\n",
       "      <th>2023-06-28</th>\n",
       "      <td>-1</td>\n",
       "    </tr>\n",
       "    <tr>\n",
       "      <th>2023-06-29</th>\n",
       "      <td>6</td>\n",
       "    </tr>\n",
       "    <tr>\n",
       "      <th>2023-06-30</th>\n",
       "      <td>2</td>\n",
       "    </tr>\n",
       "    <tr>\n",
       "      <th>2023-07-01</th>\n",
       "      <td>9</td>\n",
       "    </tr>\n",
       "    <tr>\n",
       "      <th>2023-07-02</th>\n",
       "      <td>7</td>\n",
       "    </tr>\n",
       "  </tbody>\n",
       "</table>\n",
       "<p>102 rows × 1 columns</p>\n",
       "</div>"
      ],
      "text/plain": [
       "            net_quantity\n",
       "day                     \n",
       "2023-03-03             8\n",
       "2023-03-04             1\n",
       "2023-03-10             2\n",
       "2023-03-11             2\n",
       "2023-03-12             0\n",
       "...                  ...\n",
       "2023-06-28            -1\n",
       "2023-06-29             6\n",
       "2023-06-30             2\n",
       "2023-07-01             9\n",
       "2023-07-02             7\n",
       "\n",
       "[102 rows x 1 columns]"
      ]
     },
     "execution_count": 184,
     "metadata": {},
     "output_type": "execute_result"
    }
   ],
   "source": [
    "data_final"
   ]
  },
  {
   "cell_type": "code",
   "execution_count": 87,
   "id": "fec929b9",
   "metadata": {},
   "outputs": [],
   "source": [
    "df_ml=data_final.copy()"
   ]
  },
  {
   "cell_type": "code",
   "execution_count": 90,
   "id": "0de7440e",
   "metadata": {},
   "outputs": [],
   "source": [
    "df_ml['last_month']=df_ml['net_quantity'].shift(1)"
   ]
  },
  {
   "cell_type": "code",
   "execution_count": 92,
   "id": "990c8e97",
   "metadata": {},
   "outputs": [],
   "source": [
    "df_ml['last_2_month']=df_ml['net_quantity'].shift(2)"
   ]
  },
  {
   "cell_type": "code",
   "execution_count": 93,
   "id": "75856940",
   "metadata": {},
   "outputs": [],
   "source": [
    "from sklearn.linear_model import LinearRegression \n",
    "from sklearn.ensemble import RandomForestRegressor"
   ]
  },
  {
   "cell_type": "code",
   "execution_count": 94,
   "id": "ede26bed",
   "metadata": {},
   "outputs": [],
   "source": [
    "lin_model=LinearRegression()"
   ]
  },
  {
   "cell_type": "code",
   "execution_count": 95,
   "id": "fa3b717e",
   "metadata": {},
   "outputs": [],
   "source": [
    "rfr_model=RandomForestRegressor(n_estimators=100,max_features=3,random_state=1)"
   ]
  },
  {
   "cell_type": "code",
   "execution_count": 97,
   "id": "46ad7333",
   "metadata": {},
   "outputs": [],
   "source": [
    "df_ml.dropna(axis=0,inplace=True)"
   ]
  },
  {
   "cell_type": "code",
   "execution_count": 99,
   "id": "7c84ff1a",
   "metadata": {},
   "outputs": [],
   "source": [
    "from sklearn.model_selection import train_test_split"
   ]
  },
  {
   "cell_type": "code",
   "execution_count": 100,
   "id": "50805833",
   "metadata": {},
   "outputs": [
    {
     "data": {
      "text/plain": [
       "Index(['net_quantity', 'last_month', 'last_2_month'], dtype='object')"
      ]
     },
     "execution_count": 100,
     "metadata": {},
     "output_type": "execute_result"
    }
   ],
   "source": [
    "df_ml.columns"
   ]
  },
  {
   "cell_type": "code",
   "execution_count": 103,
   "id": "c5be489b",
   "metadata": {},
   "outputs": [],
   "source": [
    "x_train,x_test,y_train,y_test=train_test_split(df_ml[['last_month','last_2_month']],df_ml['net_quantity'],test_size=0.2)"
   ]
  },
  {
   "cell_type": "code",
   "execution_count": 104,
   "id": "ec6e790b",
   "metadata": {},
   "outputs": [
    {
     "data": {
      "text/html": [
       "<style>#sk-container-id-1 {color: black;background-color: white;}#sk-container-id-1 pre{padding: 0;}#sk-container-id-1 div.sk-toggleable {background-color: white;}#sk-container-id-1 label.sk-toggleable__label {cursor: pointer;display: block;width: 100%;margin-bottom: 0;padding: 0.3em;box-sizing: border-box;text-align: center;}#sk-container-id-1 label.sk-toggleable__label-arrow:before {content: \"▸\";float: left;margin-right: 0.25em;color: #696969;}#sk-container-id-1 label.sk-toggleable__label-arrow:hover:before {color: black;}#sk-container-id-1 div.sk-estimator:hover label.sk-toggleable__label-arrow:before {color: black;}#sk-container-id-1 div.sk-toggleable__content {max-height: 0;max-width: 0;overflow: hidden;text-align: left;background-color: #f0f8ff;}#sk-container-id-1 div.sk-toggleable__content pre {margin: 0.2em;color: black;border-radius: 0.25em;background-color: #f0f8ff;}#sk-container-id-1 input.sk-toggleable__control:checked~div.sk-toggleable__content {max-height: 200px;max-width: 100%;overflow: auto;}#sk-container-id-1 input.sk-toggleable__control:checked~label.sk-toggleable__label-arrow:before {content: \"▾\";}#sk-container-id-1 div.sk-estimator input.sk-toggleable__control:checked~label.sk-toggleable__label {background-color: #d4ebff;}#sk-container-id-1 div.sk-label input.sk-toggleable__control:checked~label.sk-toggleable__label {background-color: #d4ebff;}#sk-container-id-1 input.sk-hidden--visually {border: 0;clip: rect(1px 1px 1px 1px);clip: rect(1px, 1px, 1px, 1px);height: 1px;margin: -1px;overflow: hidden;padding: 0;position: absolute;width: 1px;}#sk-container-id-1 div.sk-estimator {font-family: monospace;background-color: #f0f8ff;border: 1px dotted black;border-radius: 0.25em;box-sizing: border-box;margin-bottom: 0.5em;}#sk-container-id-1 div.sk-estimator:hover {background-color: #d4ebff;}#sk-container-id-1 div.sk-parallel-item::after {content: \"\";width: 100%;border-bottom: 1px solid gray;flex-grow: 1;}#sk-container-id-1 div.sk-label:hover label.sk-toggleable__label {background-color: #d4ebff;}#sk-container-id-1 div.sk-serial::before {content: \"\";position: absolute;border-left: 1px solid gray;box-sizing: border-box;top: 0;bottom: 0;left: 50%;z-index: 0;}#sk-container-id-1 div.sk-serial {display: flex;flex-direction: column;align-items: center;background-color: white;padding-right: 0.2em;padding-left: 0.2em;position: relative;}#sk-container-id-1 div.sk-item {position: relative;z-index: 1;}#sk-container-id-1 div.sk-parallel {display: flex;align-items: stretch;justify-content: center;background-color: white;position: relative;}#sk-container-id-1 div.sk-item::before, #sk-container-id-1 div.sk-parallel-item::before {content: \"\";position: absolute;border-left: 1px solid gray;box-sizing: border-box;top: 0;bottom: 0;left: 50%;z-index: -1;}#sk-container-id-1 div.sk-parallel-item {display: flex;flex-direction: column;z-index: 1;position: relative;background-color: white;}#sk-container-id-1 div.sk-parallel-item:first-child::after {align-self: flex-end;width: 50%;}#sk-container-id-1 div.sk-parallel-item:last-child::after {align-self: flex-start;width: 50%;}#sk-container-id-1 div.sk-parallel-item:only-child::after {width: 0;}#sk-container-id-1 div.sk-dashed-wrapped {border: 1px dashed gray;margin: 0 0.4em 0.5em 0.4em;box-sizing: border-box;padding-bottom: 0.4em;background-color: white;}#sk-container-id-1 div.sk-label label {font-family: monospace;font-weight: bold;display: inline-block;line-height: 1.2em;}#sk-container-id-1 div.sk-label-container {text-align: center;}#sk-container-id-1 div.sk-container {/* jupyter's `normalize.less` sets `[hidden] { display: none; }` but bootstrap.min.css set `[hidden] { display: none !important; }` so we also need the `!important` here to be able to override the default hidden behavior on the sphinx rendered scikit-learn.org. See: https://github.com/scikit-learn/scikit-learn/issues/21755 */display: inline-block !important;position: relative;}#sk-container-id-1 div.sk-text-repr-fallback {display: none;}</style><div id=\"sk-container-id-1\" class=\"sk-top-container\"><div class=\"sk-text-repr-fallback\"><pre>LinearRegression()</pre><b>In a Jupyter environment, please rerun this cell to show the HTML representation or trust the notebook. <br />On GitHub, the HTML representation is unable to render, please try loading this page with nbviewer.org.</b></div><div class=\"sk-container\" hidden><div class=\"sk-item\"><div class=\"sk-estimator sk-toggleable\"><input class=\"sk-toggleable__control sk-hidden--visually\" id=\"sk-estimator-id-1\" type=\"checkbox\" checked><label for=\"sk-estimator-id-1\" class=\"sk-toggleable__label sk-toggleable__label-arrow\">LinearRegression</label><div class=\"sk-toggleable__content\"><pre>LinearRegression()</pre></div></div></div></div></div>"
      ],
      "text/plain": [
       "LinearRegression()"
      ]
     },
     "execution_count": 104,
     "metadata": {},
     "output_type": "execute_result"
    }
   ],
   "source": [
    "lin_model.fit(x_train,y_train)"
   ]
  },
  {
   "cell_type": "code",
   "execution_count": 105,
   "id": "a811391a",
   "metadata": {},
   "outputs": [
    {
     "data": {
      "text/html": [
       "<style>#sk-container-id-2 {color: black;background-color: white;}#sk-container-id-2 pre{padding: 0;}#sk-container-id-2 div.sk-toggleable {background-color: white;}#sk-container-id-2 label.sk-toggleable__label {cursor: pointer;display: block;width: 100%;margin-bottom: 0;padding: 0.3em;box-sizing: border-box;text-align: center;}#sk-container-id-2 label.sk-toggleable__label-arrow:before {content: \"▸\";float: left;margin-right: 0.25em;color: #696969;}#sk-container-id-2 label.sk-toggleable__label-arrow:hover:before {color: black;}#sk-container-id-2 div.sk-estimator:hover label.sk-toggleable__label-arrow:before {color: black;}#sk-container-id-2 div.sk-toggleable__content {max-height: 0;max-width: 0;overflow: hidden;text-align: left;background-color: #f0f8ff;}#sk-container-id-2 div.sk-toggleable__content pre {margin: 0.2em;color: black;border-radius: 0.25em;background-color: #f0f8ff;}#sk-container-id-2 input.sk-toggleable__control:checked~div.sk-toggleable__content {max-height: 200px;max-width: 100%;overflow: auto;}#sk-container-id-2 input.sk-toggleable__control:checked~label.sk-toggleable__label-arrow:before {content: \"▾\";}#sk-container-id-2 div.sk-estimator input.sk-toggleable__control:checked~label.sk-toggleable__label {background-color: #d4ebff;}#sk-container-id-2 div.sk-label input.sk-toggleable__control:checked~label.sk-toggleable__label {background-color: #d4ebff;}#sk-container-id-2 input.sk-hidden--visually {border: 0;clip: rect(1px 1px 1px 1px);clip: rect(1px, 1px, 1px, 1px);height: 1px;margin: -1px;overflow: hidden;padding: 0;position: absolute;width: 1px;}#sk-container-id-2 div.sk-estimator {font-family: monospace;background-color: #f0f8ff;border: 1px dotted black;border-radius: 0.25em;box-sizing: border-box;margin-bottom: 0.5em;}#sk-container-id-2 div.sk-estimator:hover {background-color: #d4ebff;}#sk-container-id-2 div.sk-parallel-item::after {content: \"\";width: 100%;border-bottom: 1px solid gray;flex-grow: 1;}#sk-container-id-2 div.sk-label:hover label.sk-toggleable__label {background-color: #d4ebff;}#sk-container-id-2 div.sk-serial::before {content: \"\";position: absolute;border-left: 1px solid gray;box-sizing: border-box;top: 0;bottom: 0;left: 50%;z-index: 0;}#sk-container-id-2 div.sk-serial {display: flex;flex-direction: column;align-items: center;background-color: white;padding-right: 0.2em;padding-left: 0.2em;position: relative;}#sk-container-id-2 div.sk-item {position: relative;z-index: 1;}#sk-container-id-2 div.sk-parallel {display: flex;align-items: stretch;justify-content: center;background-color: white;position: relative;}#sk-container-id-2 div.sk-item::before, #sk-container-id-2 div.sk-parallel-item::before {content: \"\";position: absolute;border-left: 1px solid gray;box-sizing: border-box;top: 0;bottom: 0;left: 50%;z-index: -1;}#sk-container-id-2 div.sk-parallel-item {display: flex;flex-direction: column;z-index: 1;position: relative;background-color: white;}#sk-container-id-2 div.sk-parallel-item:first-child::after {align-self: flex-end;width: 50%;}#sk-container-id-2 div.sk-parallel-item:last-child::after {align-self: flex-start;width: 50%;}#sk-container-id-2 div.sk-parallel-item:only-child::after {width: 0;}#sk-container-id-2 div.sk-dashed-wrapped {border: 1px dashed gray;margin: 0 0.4em 0.5em 0.4em;box-sizing: border-box;padding-bottom: 0.4em;background-color: white;}#sk-container-id-2 div.sk-label label {font-family: monospace;font-weight: bold;display: inline-block;line-height: 1.2em;}#sk-container-id-2 div.sk-label-container {text-align: center;}#sk-container-id-2 div.sk-container {/* jupyter's `normalize.less` sets `[hidden] { display: none; }` but bootstrap.min.css set `[hidden] { display: none !important; }` so we also need the `!important` here to be able to override the default hidden behavior on the sphinx rendered scikit-learn.org. See: https://github.com/scikit-learn/scikit-learn/issues/21755 */display: inline-block !important;position: relative;}#sk-container-id-2 div.sk-text-repr-fallback {display: none;}</style><div id=\"sk-container-id-2\" class=\"sk-top-container\"><div class=\"sk-text-repr-fallback\"><pre>RandomForestRegressor(max_features=3, random_state=1)</pre><b>In a Jupyter environment, please rerun this cell to show the HTML representation or trust the notebook. <br />On GitHub, the HTML representation is unable to render, please try loading this page with nbviewer.org.</b></div><div class=\"sk-container\" hidden><div class=\"sk-item\"><div class=\"sk-estimator sk-toggleable\"><input class=\"sk-toggleable__control sk-hidden--visually\" id=\"sk-estimator-id-2\" type=\"checkbox\" checked><label for=\"sk-estimator-id-2\" class=\"sk-toggleable__label sk-toggleable__label-arrow\">RandomForestRegressor</label><div class=\"sk-toggleable__content\"><pre>RandomForestRegressor(max_features=3, random_state=1)</pre></div></div></div></div></div>"
      ],
      "text/plain": [
       "RandomForestRegressor(max_features=3, random_state=1)"
      ]
     },
     "execution_count": 105,
     "metadata": {},
     "output_type": "execute_result"
    }
   ],
   "source": [
    "rfr_model.fit(x_train,y_train)"
   ]
  },
  {
   "cell_type": "code",
   "execution_count": 107,
   "id": "bc5d1657",
   "metadata": {},
   "outputs": [],
   "source": [
    "lin_predict=lin_model.predict(x_test)\n",
    "rfr_predict=rfr_model.predict(x_test)"
   ]
  },
  {
   "cell_type": "code",
   "execution_count": 115,
   "id": "75c22bff",
   "metadata": {},
   "outputs": [
    {
     "data": {
      "image/png": "[encoded data removed]",
      "text/plain": [
       "<Figure size 640x480 with 1 Axes>"
      ]
     },
     "metadata": {},
     "output_type": "display_data"
    }
   ],
   "source": [
    "plt.plot(y_test.values,label='actual quantity')\n",
    "# plt.plot(lin_predict,label='linear reg predict')\n",
    "plt.plot(rfr_predict,label='random forest predict')\n",
    "\n",
    "plt.legend(loc='upper left')\n",
    "plt.show()"
   ]
  },
  {
   "cell_type": "code",
   "execution_count": 131,
   "id": "f7cae438",
   "metadata": {},
   "outputs": [
    {
     "data": {
      "image/png": "[encoded data removed]",
      "text/plain": [
       "<Figure size 640x480 with 1 Axes>"
      ]
     },
     "metadata": {},
     "output_type": "display_data"
    }
   ],
   "source": [
    "plt.plot(y_test.values,label='actual quantity')\n",
    "plt.plot(lin_predict,label='linear reg predict')\n",
    "# plt.plot(rfr_predict,label='random forest predict')\n",
    "\n",
    "plt.legend(loc='upper left')\n",
    "plt.show()"
   ]
  },
  {
   "cell_type": "code",
   "execution_count": 112,
   "id": "75a2c1db",
   "metadata": {},
   "outputs": [
    {
     "data": {
      "text/plain": [
       "1.0"
      ]
     },
     "execution_count": 112,
     "metadata": {},
     "output_type": "execute_result"
    }
   ],
   "source": [
    "lin_model.score(x_test,lin_predict)"
   ]
  },
  {
   "cell_type": "code",
   "execution_count": 113,
   "id": "29750758",
   "metadata": {},
   "outputs": [
    {
     "data": {
      "text/plain": [
       "0.3231217032025906"
      ]
     },
     "execution_count": 113,
     "metadata": {},
     "output_type": "execute_result"
    }
   ],
   "source": [
    "lin_model.score(x_test,rfr_predict)"
   ]
  },
  {
   "cell_type": "code",
   "execution_count": 122,
   "id": "e93fa3d2",
   "metadata": {},
   "outputs": [
    {
     "data": {
      "text/plain": [
       "array([ 5,  2,  6,  6, -1,  3,  6,  1, 11,  1,  4,  1,  5, 10,  5, -1,  1,\n",
       "        4,  1,  1], dtype=int64)"
      ]
     },
     "execution_count": 122,
     "metadata": {},
     "output_type": "execute_result"
    }
   ],
   "source": [
    "y_test.values"
   ]
  },
  {
   "cell_type": "code",
   "execution_count": 123,
   "id": "a2d4f3cc",
   "metadata": {},
   "outputs": [
    {
     "data": {
      "text/plain": [
       "array([ 4.30666667,  6.228     , 11.97133333,  6.373     ,  1.63707937,\n",
       "        7.38333333,  2.48211905,  7.23      ,  3.74459524,  0.82894444,\n",
       "        1.97935317,  1.97935317,  3.6       ,  5.09      ,  9.074     ,\n",
       "        4.02847619,  2.13016667,  2.40688262,  1.87854762,  6.213     ])"
      ]
     },
     "execution_count": 123,
     "metadata": {},
     "output_type": "execute_result"
    }
   ],
   "source": [
    "rfr_predict"
   ]
  },
  {
   "cell_type": "code",
   "execution_count": 124,
   "id": "db934189",
   "metadata": {},
   "outputs": [],
   "source": [
    "from sklearn.metrics import mean_squared_error \n",
    "from math import sqrt"
   ]
  },
  {
   "cell_type": "code",
   "execution_count": 133,
   "id": "768b9f54",
   "metadata": {},
   "outputs": [
    {
     "name": "stdout",
     "output_type": "stream",
     "text": [
      "the rmse for fandom forest  is 3.8008867312441885\n"
     ]
    }
   ],
   "source": [
    "print('the rmse for fandom forest  is',sqrt(mean_squared_error(y_test.values,rfr_predict)))"
   ]
  },
  {
   "cell_type": "code",
   "execution_count": 134,
   "id": "7664f1c0",
   "metadata": {},
   "outputs": [
    {
     "name": "stdout",
     "output_type": "stream",
     "text": [
      "the rmse for linear regression  is 2.8154633888075824\n"
     ]
    }
   ],
   "source": [
    "print('the rmse for linear regression  is',sqrt(mean_squared_error(y_test.values,lin_predict)))"
   ]
  },
  {
   "cell_type": "code",
   "execution_count": 135,
   "id": "af3d4157",
   "metadata": {},
   "outputs": [
    {
     "name": "stdout",
     "output_type": "stream",
     "text": [
      "mean of testing values is  3.55\n"
     ]
    }
   ],
   "source": [
    "print('mean of testing values is ',y_test.values.mean())"
   ]
  },
  {
   "cell_type": "markdown",
   "id": "c1791551",
   "metadata": {},
   "source": [
    "## time series analysis using RNN (LSTM)"
   ]
  },
  {
   "cell_type": "code",
   "execution_count": 32,
   "id": "80197a4d",
   "metadata": {},
   "outputs": [],
   "source": [
    "df_lstm=data_final.copy()"
   ]
  },
  {
   "cell_type": "code",
   "execution_count": 33,
   "id": "6119b1e6",
   "metadata": {},
   "outputs": [
    {
     "data": {
      "text/plain": [
       "(102,)"
      ]
     },
     "execution_count": 33,
     "metadata": {},
     "output_type": "execute_result"
    }
   ],
   "source": [
    "df_lstm['net_quantity'].shape"
   ]
  },
  {
   "cell_type": "code",
   "execution_count": 34,
   "id": "ec20a138",
   "metadata": {},
   "outputs": [
    {
     "data": {
      "text/plain": [
       "<Axes: xlabel='day'>"
      ]
     },
     "execution_count": 34,
     "metadata": {},
     "output_type": "execute_result"
    },
    {
     "data": {
      "image/png": "[encoded data removed]",
      "text/plain": [
       "<Figure size 640x480 with 1 Axes>"
      ]
     },
     "metadata": {},
     "output_type": "display_data"
    }
   ],
   "source": [
    "df_lstm.plot()"
   ]
  },
  {
   "cell_type": "code",
   "execution_count": 35,
   "id": "fd6a2b05",
   "metadata": {},
   "outputs": [],
   "source": [
    "from tensorflow.keras.models import Sequential\n",
    "from tensorflow.keras.layers import LSTM, Dense"
   ]
  },
  {
   "cell_type": "code",
   "execution_count": 36,
   "id": "6624d99e",
   "metadata": {},
   "outputs": [],
   "source": [
    "from keras.preprocessing.sequence import TimeseriesGenerator"
   ]
  },
  {
   "cell_type": "code",
   "execution_count": 63,
   "id": "766cde23",
   "metadata": {},
   "outputs": [],
   "source": [
    "n_input=7"
   ]
  },
  {
   "cell_type": "code",
   "execution_count": 64,
   "id": "f1af71f6",
   "metadata": {},
   "outputs": [],
   "source": [
    "n_features=1"
   ]
  },
  {
   "cell_type": "code",
   "execution_count": 39,
   "id": "7852c58f",
   "metadata": {},
   "outputs": [],
   "source": [
    "generator=TimeseriesGenerator(train['net_quantity'],train['net_quantity'],length=n_input,batch_size=1)"
   ]
  },
  {
   "cell_type": "code",
   "execution_count": 40,
   "id": "6c7d6098",
   "metadata": {},
   "outputs": [
    {
     "data": {
      "text/plain": [
       "(array([[ 8,  1,  2,  2,  0, -1,  1,  2,  3,  1,  2,  2,  1,  2,  3]],\n",
       "       dtype=int64),\n",
       " array([6], dtype=int64))"
      ]
     },
     "execution_count": 40,
     "metadata": {},
     "output_type": "execute_result"
    }
   ],
   "source": [
    "generator[0]"
   ]
  },
  {
   "cell_type": "code",
   "execution_count": 41,
   "id": "1262197a",
   "metadata": {},
   "outputs": [
    {
     "data": {
      "text/plain": [
       "(array([[ 1,  2,  2,  0, -1,  1,  2,  3,  1,  2,  2,  1,  2,  3,  6]],\n",
       "       dtype=int64),\n",
       " array([7], dtype=int64))"
      ]
     },
     "execution_count": 41,
     "metadata": {},
     "output_type": "execute_result"
    }
   ],
   "source": [
    "generator[1]"
   ]
  },
  {
   "cell_type": "code",
   "execution_count": 42,
   "id": "1a5f592a",
   "metadata": {},
   "outputs": [],
   "source": [
    "model_lstm=Sequential()"
   ]
  },
  {
   "cell_type": "code",
   "execution_count": 43,
   "id": "445a9def",
   "metadata": {},
   "outputs": [],
   "source": [
    "model_lstm.add(LSTM(100,activation='relu',input_shape=(n_input,1)))"
   ]
  },
  {
   "cell_type": "code",
   "execution_count": 44,
   "id": "6d1c2e90",
   "metadata": {},
   "outputs": [],
   "source": [
    "model_lstm.add(Dense(1))"
   ]
  },
  {
   "cell_type": "code",
   "execution_count": 45,
   "id": "4d099ba0",
   "metadata": {},
   "outputs": [],
   "source": [
    "model_lstm.compile(optimizer='adam',loss='mse')"
   ]
  },
  {
   "cell_type": "code",
   "execution_count": 46,
   "id": "3a2bb4b2",
   "metadata": {},
   "outputs": [
    {
     "name": "stdout",
     "output_type": "stream",
     "text": [
      "Model: \"sequential\"\n",
      "_________________________________________________________________\n",
      " Layer (type)                Output Shape              Param #   \n",
      "=================================================================\n",
      " lstm (LSTM)                 (None, 100)               40800     \n",
      "                                                                 \n",
      " dense (Dense)               (None, 1)                 101       \n",
      "                                                                 \n",
      "=================================================================\n",
      "Total params: 40,901\n",
      "Trainable params: 40,901\n",
      "Non-trainable params: 0\n",
      "_________________________________________________________________\n"
     ]
    }
   ],
   "source": [
    "model_lstm.summary()"
   ]
  },
  {
   "cell_type": "code",
   "execution_count": 47,
   "id": "f8772e39",
   "metadata": {},
   "outputs": [
    {
     "name": "stdout",
     "output_type": "stream",
     "text": [
      "Epoch 1/50\n",
      "77/77 [==============================] - 2s 4ms/step - loss: 21.0132\n",
      "Epoch 2/50\n",
      "77/77 [==============================] - 0s 4ms/step - loss: 14.3712\n",
      "Epoch 3/50\n",
      "77/77 [==============================] - 0s 4ms/step - loss: 16.0142\n",
      "Epoch 4/50\n",
      "77/77 [==============================] - 1s 7ms/step - loss: 12.3268\n",
      "Epoch 5/50\n",
      "77/77 [==============================] - 0s 4ms/step - loss: 11.1015\n",
      "Epoch 6/50\n",
      "77/77 [==============================] - 1s 7ms/step - loss: 11.5672\n",
      "Epoch 7/50\n",
      "77/77 [==============================] - 0s 6ms/step - loss: 11.4648\n",
      "Epoch 8/50\n",
      "77/77 [==============================] - 0s 4ms/step - loss: 11.4483\n",
      "Epoch 9/50\n",
      "77/77 [==============================] - 1s 8ms/step - loss: 11.0887\n",
      "Epoch 10/50\n",
      "77/77 [==============================] - 0s 4ms/step - loss: 11.2592\n",
      "Epoch 11/50\n",
      "77/77 [==============================] - 0s 4ms/step - loss: 10.6402\n",
      "Epoch 12/50\n",
      "77/77 [==============================] - 0s 4ms/step - loss: 10.5624\n",
      "Epoch 13/50\n",
      "77/77 [==============================] - 0s 4ms/step - loss: 10.8484\n",
      "Epoch 14/50\n",
      "77/77 [==============================] - 0s 5ms/step - loss: 10.0461\n",
      "Epoch 15/50\n",
      "77/77 [==============================] - 0s 5ms/step - loss: 9.8738\n",
      "Epoch 16/50\n",
      "77/77 [==============================] - 0s 4ms/step - loss: 10.3231\n",
      "Epoch 17/50\n",
      "77/77 [==============================] - 0s 4ms/step - loss: 10.2924\n",
      "Epoch 18/50\n",
      "77/77 [==============================] - 0s 4ms/step - loss: 9.6224\n",
      "Epoch 19/50\n",
      "77/77 [==============================] - 0s 6ms/step - loss: 9.6392\n",
      "Epoch 20/50\n",
      "77/77 [==============================] - 0s 5ms/step - loss: 9.8666\n",
      "Epoch 21/50\n",
      "77/77 [==============================] - 0s 4ms/step - loss: 9.1614\n",
      "Epoch 22/50\n",
      "77/77 [==============================] - 0s 4ms/step - loss: 9.4881\n",
      "Epoch 23/50\n",
      "77/77 [==============================] - 0s 4ms/step - loss: 10.0167\n",
      "Epoch 24/50\n",
      "77/77 [==============================] - 0s 4ms/step - loss: 9.8054\n",
      "Epoch 25/50\n",
      "77/77 [==============================] - 0s 4ms/step - loss: 9.5377\n",
      "Epoch 26/50\n",
      "77/77 [==============================] - 0s 4ms/step - loss: 9.9399\n",
      "Epoch 27/50\n",
      "77/77 [==============================] - 1s 6ms/step - loss: 9.8086\n",
      "Epoch 28/50\n",
      "77/77 [==============================] - 1s 8ms/step - loss: 9.5166\n",
      "Epoch 29/50\n",
      "77/77 [==============================] - 0s 4ms/step - loss: 9.5332\n",
      "Epoch 30/50\n",
      "77/77 [==============================] - 0s 4ms/step - loss: 9.5808\n",
      "Epoch 31/50\n",
      "77/77 [==============================] - 0s 4ms/step - loss: 8.9525\n",
      "Epoch 32/50\n",
      "77/77 [==============================] - 0s 4ms/step - loss: 9.6141\n",
      "Epoch 33/50\n",
      "77/77 [==============================] - 0s 4ms/step - loss: 9.1348\n",
      "Epoch 34/50\n",
      "77/77 [==============================] - 0s 4ms/step - loss: 9.0683\n",
      "Epoch 35/50\n",
      "77/77 [==============================] - 0s 4ms/step - loss: 9.1088\n",
      "Epoch 36/50\n",
      "77/77 [==============================] - 0s 4ms/step - loss: 9.1500\n",
      "Epoch 37/50\n",
      "77/77 [==============================] - 0s 4ms/step - loss: 9.1503\n",
      "Epoch 38/50\n",
      "77/77 [==============================] - 0s 4ms/step - loss: 9.4496\n",
      "Epoch 39/50\n",
      "77/77 [==============================] - 0s 4ms/step - loss: 9.7938\n",
      "Epoch 40/50\n",
      "77/77 [==============================] - 0s 4ms/step - loss: 8.5008\n",
      "Epoch 41/50\n",
      "77/77 [==============================] - 0s 4ms/step - loss: 9.3810\n",
      "Epoch 42/50\n",
      "77/77 [==============================] - 1s 7ms/step - loss: 8.8054\n",
      "Epoch 43/50\n",
      "77/77 [==============================] - 1s 7ms/step - loss: 8.3330\n",
      "Epoch 44/50\n",
      "77/77 [==============================] - 0s 4ms/step - loss: 8.5900\n",
      "Epoch 45/50\n",
      "77/77 [==============================] - 0s 4ms/step - loss: 8.3873\n",
      "Epoch 46/50\n",
      "77/77 [==============================] - 0s 4ms/step - loss: 8.1310\n",
      "Epoch 47/50\n",
      "77/77 [==============================] - 1s 9ms/step - loss: 9.1969\n",
      "Epoch 48/50\n",
      "77/77 [==============================] - 0s 5ms/step - loss: 8.8208\n",
      "Epoch 49/50\n",
      "77/77 [==============================] - 0s 4ms/step - loss: 8.5782\n",
      "Epoch 50/50\n",
      "77/77 [==============================] - 0s 4ms/step - loss: 8.3214\n"
     ]
    },
    {
     "data": {
      "text/plain": [
       "<keras.callbacks.History at 0x170af2f4250>"
      ]
     },
     "execution_count": 47,
     "metadata": {},
     "output_type": "execute_result"
    }
   ],
   "source": [
    "model_lstm.fit(generator,epochs=50)"
   ]
  },
  {
   "cell_type": "code",
   "execution_count": 48,
   "id": "ec1847c3",
   "metadata": {},
   "outputs": [],
   "source": [
    "loss_per_epoch=model_lstm.history.history['loss']"
   ]
  },
  {
   "cell_type": "code",
   "execution_count": 49,
   "id": "7f8899ae",
   "metadata": {},
   "outputs": [
    {
     "data": {
      "text/plain": [
       "[<matplotlib.lines.Line2D at 0x170b0720910>]"
      ]
     },
     "execution_count": 49,
     "metadata": {},
     "output_type": "execute_result"
    },
    {
     "data": {
      "image/png": "[encoded data removed]",
      "text/plain": [
       "<Figure size 640x480 with 1 Axes>"
      ]
     },
     "metadata": {},
     "output_type": "display_data"
    }
   ],
   "source": [
    "from matplotlib import pyplot as plt\n",
    "plt.plot(loss_per_epoch)"
   ]
  },
  {
   "cell_type": "code",
   "execution_count": 50,
   "id": "0704d12e",
   "metadata": {},
   "outputs": [],
   "source": [
    "last_train=train[-n_input:]"
   ]
  },
  {
   "cell_type": "code",
   "execution_count": 51,
   "id": "edefbbcc",
   "metadata": {},
   "outputs": [
    {
     "data": {
      "text/html": [
       "<div>\n",
       "<style scoped>\n",
       "    .dataframe tbody tr th:only-of-type {\n",
       "        vertical-align: middle;\n",
       "    }\n",
       "\n",
       "    .dataframe tbody tr th {\n",
       "        vertical-align: top;\n",
       "    }\n",
       "\n",
       "    .dataframe thead th {\n",
       "        text-align: right;\n",
       "    }\n",
       "</style>\n",
       "<table border=\"1\" class=\"dataframe\">\n",
       "  <thead>\n",
       "    <tr style=\"text-align: right;\">\n",
       "      <th></th>\n",
       "      <th>net_quantity</th>\n",
       "    </tr>\n",
       "    <tr>\n",
       "      <th>day</th>\n",
       "      <th></th>\n",
       "    </tr>\n",
       "  </thead>\n",
       "  <tbody>\n",
       "    <tr>\n",
       "      <th>2023-06-04</th>\n",
       "      <td>3</td>\n",
       "    </tr>\n",
       "    <tr>\n",
       "      <th>2023-06-09</th>\n",
       "      <td>1</td>\n",
       "    </tr>\n",
       "    <tr>\n",
       "      <th>2023-06-10</th>\n",
       "      <td>1</td>\n",
       "    </tr>\n",
       "    <tr>\n",
       "      <th>2023-06-11</th>\n",
       "      <td>1</td>\n",
       "    </tr>\n",
       "    <tr>\n",
       "      <th>2023-06-12</th>\n",
       "      <td>2</td>\n",
       "    </tr>\n",
       "    <tr>\n",
       "      <th>2023-06-13</th>\n",
       "      <td>1</td>\n",
       "    </tr>\n",
       "    <tr>\n",
       "      <th>2023-06-14</th>\n",
       "      <td>1</td>\n",
       "    </tr>\n",
       "    <tr>\n",
       "      <th>2023-06-15</th>\n",
       "      <td>2</td>\n",
       "    </tr>\n",
       "    <tr>\n",
       "      <th>2023-06-16</th>\n",
       "      <td>4</td>\n",
       "    </tr>\n",
       "    <tr>\n",
       "      <th>2023-06-17</th>\n",
       "      <td>1</td>\n",
       "    </tr>\n",
       "    <tr>\n",
       "      <th>2023-06-18</th>\n",
       "      <td>5</td>\n",
       "    </tr>\n",
       "    <tr>\n",
       "      <th>2023-06-19</th>\n",
       "      <td>5</td>\n",
       "    </tr>\n",
       "    <tr>\n",
       "      <th>2023-06-20</th>\n",
       "      <td>2</td>\n",
       "    </tr>\n",
       "    <tr>\n",
       "      <th>2023-06-21</th>\n",
       "      <td>1</td>\n",
       "    </tr>\n",
       "    <tr>\n",
       "      <th>2023-06-22</th>\n",
       "      <td>2</td>\n",
       "    </tr>\n",
       "  </tbody>\n",
       "</table>\n",
       "</div>"
      ],
      "text/plain": [
       "            net_quantity\n",
       "day                     \n",
       "2023-06-04             3\n",
       "2023-06-09             1\n",
       "2023-06-10             1\n",
       "2023-06-11             1\n",
       "2023-06-12             2\n",
       "2023-06-13             1\n",
       "2023-06-14             1\n",
       "2023-06-15             2\n",
       "2023-06-16             4\n",
       "2023-06-17             1\n",
       "2023-06-18             5\n",
       "2023-06-19             5\n",
       "2023-06-20             2\n",
       "2023-06-21             1\n",
       "2023-06-22             2"
      ]
     },
     "execution_count": 51,
     "metadata": {},
     "output_type": "execute_result"
    }
   ],
   "source": [
    "last_train"
   ]
  },
  {
   "cell_type": "code",
   "execution_count": 52,
   "id": "260752ad",
   "metadata": {},
   "outputs": [
    {
     "name": "stdout",
     "output_type": "stream",
     "text": [
      "1/1 [==============================] - 0s 180ms/step\n"
     ]
    },
    {
     "data": {
      "text/plain": [
       "array([[2.0901532]], dtype=float32)"
      ]
     },
     "execution_count": 52,
     "metadata": {},
     "output_type": "execute_result"
    }
   ],
   "source": [
    "model_lstm.predict(last_train.values.reshape((1,n_input)))"
   ]
  },
  {
   "cell_type": "code",
   "execution_count": 53,
   "id": "bb4eda95",
   "metadata": {},
   "outputs": [
    {
     "data": {
      "text/plain": [
       "4"
      ]
     },
     "execution_count": 53,
     "metadata": {},
     "output_type": "execute_result"
    }
   ],
   "source": [
    "test['net_quantity'].values[0]"
   ]
  },
  {
   "cell_type": "code",
   "execution_count": 54,
   "id": "f2259d06",
   "metadata": {},
   "outputs": [],
   "source": [
    "de=last_train.values.reshape((1,n_input))"
   ]
  },
  {
   "cell_type": "code",
   "execution_count": 236,
   "id": "59983bee",
   "metadata": {},
   "outputs": [
    {
     "data": {
      "text/plain": [
       "array([  1,   2, 200], dtype=int64)"
      ]
     },
     "execution_count": 236,
     "metadata": {},
     "output_type": "execute_result"
    }
   ],
   "source": [
    "np.append(de[:,1:],200)"
   ]
  },
  {
   "cell_type": "code",
   "execution_count": 233,
   "id": "710507ae",
   "metadata": {},
   "outputs": [
    {
     "data": {
      "text/plain": [
       "array([[2, 1, 2]], dtype=int64)"
      ]
     },
     "execution_count": 233,
     "metadata": {},
     "output_type": "execute_result"
    }
   ],
   "source": [
    "de"
   ]
  },
  {
   "cell_type": "code",
   "execution_count": 60,
   "id": "e13c61c7",
   "metadata": {},
   "outputs": [
    {
     "data": {
      "text/plain": [
       "array([1, 2, 3])"
      ]
     },
     "execution_count": 60,
     "metadata": {},
     "output_type": "execute_result"
    }
   ],
   "source": [
    "np.append(a[:,1:],3)"
   ]
  },
  {
   "cell_type": "code",
   "execution_count": 64,
   "id": "d2446960",
   "metadata": {},
   "outputs": [
    {
     "data": {
      "text/plain": [
       "3"
      ]
     },
     "execution_count": 64,
     "metadata": {},
     "output_type": "execute_result"
    }
   ],
   "source": [
    "n_input"
   ]
  },
  {
   "cell_type": "code",
   "execution_count": 71,
   "id": "cfa23cb4",
   "metadata": {
    "scrolled": true
   },
   "outputs": [
    {
     "name": "stdout",
     "output_type": "stream",
     "text": [
      "4\n",
      "1\n",
      "1\n",
      "3\n",
      "1\n",
      "-1\n",
      "6\n",
      "2\n",
      "9\n",
      "7\n"
     ]
    }
   ],
   "source": [
    "for i in test.values.reshape(1,-1)[0]:\n",
    "    print(i)"
   ]
  },
  {
   "cell_type": "code",
   "execution_count": 73,
   "id": "ff175200",
   "metadata": {},
   "outputs": [
    {
     "name": "stdout",
     "output_type": "stream",
     "text": [
      "1/1 [==============================] - 0s 19ms/step\n"
     ]
    },
    {
     "data": {
      "text/plain": [
       "6.9919934"
      ]
     },
     "execution_count": 73,
     "metadata": {},
     "output_type": "execute_result"
    }
   ],
   "source": [
    "model_lstm.predict(a)[0][0]"
   ]
  },
  {
   "cell_type": "code",
   "execution_count": 56,
   "id": "77c8e32a",
   "metadata": {},
   "outputs": [
    {
     "data": {
      "text/plain": [
       "array([[3, 1, 1, 1, 2, 1, 1, 2, 4, 1, 5, 5, 2, 1, 2]], dtype=int64)"
      ]
     },
     "execution_count": 56,
     "metadata": {},
     "output_type": "execute_result"
    }
   ],
   "source": [
    "last_train.values.reshape(1,-1)"
   ]
  },
  {
   "cell_type": "code",
   "execution_count": 57,
   "id": "b7e8dfd7",
   "metadata": {},
   "outputs": [
    {
     "name": "stdout",
     "output_type": "stream",
     "text": [
      "1/1 [==============================] - 0s 154ms/step\n",
      "[[1.         1.         1.         2.         1.         1.\n",
      "  2.         4.         1.         5.         5.         2.\n",
      "  1.         2.         2.09015322]] 2.0901532\n",
      "1/1 [==============================] - 0s 270ms/step\n",
      "[[1.         1.         2.         1.         1.         2.\n",
      "  4.         1.         5.         5.         2.         1.\n",
      "  2.         2.09015322 2.06531906]] 2.065319\n",
      "1/1 [==============================] - 0s 15ms/step\n",
      "[[1.         2.         1.         1.         2.         4.\n",
      "  1.         5.         5.         2.         1.         2.\n",
      "  2.09015322 2.06531906 2.30520797]] 2.305208\n",
      "1/1 [==============================] - 0s 23ms/step\n",
      "[[2.         1.         1.         2.         4.         1.\n",
      "  5.         5.         2.         1.         2.         2.09015322\n",
      "  2.06531906 2.30520797 2.60057878]] 2.6005788\n",
      "1/1 [==============================] - 0s 17ms/step\n",
      "[[1.         1.         2.         4.         1.         5.\n",
      "  5.         2.         1.         2.         2.09015322 2.06531906\n",
      "  2.30520797 2.60057878 2.94793844]] 2.9479384\n",
      "1/1 [==============================] - 0s 20ms/step\n",
      "[[1.         2.         4.         1.         5.         5.\n",
      "  2.         1.         2.         2.09015322 2.06531906 2.30520797\n",
      "  2.60057878 2.94793844 3.26192594]] 3.261926\n",
      "1/1 [==============================] - 0s 19ms/step\n",
      "[[2.         4.         1.         5.         5.         2.\n",
      "  1.         2.         2.09015322 2.06531906 2.30520797 2.60057878\n",
      "  2.94793844 3.26192594 3.72855878]] 3.7285588\n",
      "1/1 [==============================] - 0s 17ms/step\n",
      "[[4.         1.         5.         5.         2.         1.\n",
      "  2.         2.09015322 2.06531906 2.30520797 2.60057878 2.94793844\n",
      "  3.26192594 3.72855878 4.19476938]] 4.1947694\n",
      "1/1 [==============================] - 0s 27ms/step\n",
      "[[1.         5.         5.         2.         1.         2.\n",
      "  2.09015322 2.06531906 2.30520797 2.60057878 2.94793844 3.26192594\n",
      "  3.72855878 4.19476938 4.42436743]] 4.4243674\n",
      "1/1 [==============================] - 0s 16ms/step\n",
      "[[5.         5.         2.         1.         2.         2.09015322\n",
      "  2.06531906 2.30520797 2.60057878 2.94793844 3.26192594 3.72855878\n",
      "  4.19476938 4.42436743 3.96331096]] 3.963311\n"
     ]
    }
   ],
   "source": [
    "arr=[]\n",
    "a=np.array([[3, 1, 1, 1, 2, 1, 1, 2, 4, 1, 5, 5, 2, 1, 2]])\n",
    "for i in range(test.shape[0]):\n",
    "    \n",
    "    ans=model_lstm.predict(a)[0][0]\n",
    "    a=np.append(a[:,1:],ans).reshape(1,n_input)\n",
    "    print(a,ans)\n",
    "    arr.append(ans)\n",
    "    "
   ]
  },
  {
   "cell_type": "code",
   "execution_count": 58,
   "id": "ac1dcab7",
   "metadata": {},
   "outputs": [
    {
     "data": {
      "text/plain": [
       "(10, 1)"
      ]
     },
     "execution_count": 58,
     "metadata": {},
     "output_type": "execute_result"
    }
   ],
   "source": [
    "test.shape"
   ]
  },
  {
   "cell_type": "code",
   "execution_count": 59,
   "id": "3f23feb4",
   "metadata": {},
   "outputs": [
    {
     "data": {
      "text/plain": [
       "[<matplotlib.lines.Line2D at 0x170af240760>]"
      ]
     },
     "execution_count": 59,
     "metadata": {},
     "output_type": "execute_result"
    },
    {
     "data": {
      "image/png": "[encoded data removed]",
      "text/plain": [
       "<Figure size 640x480 with 1 Axes>"
      ]
     },
     "metadata": {},
     "output_type": "display_data"
    }
   ],
   "source": [
    "plt.plot(test.values,label=\"actual values\",c='r')\n",
    "plt.plot(arr,label='predicted values',c='g')"
   ]
  },
  {
   "cell_type": "code",
   "execution_count": 60,
   "id": "1fc4f82c",
   "metadata": {},
   "outputs": [],
   "source": [
    "from sklearn.metrics import mean_squared_error\n",
    "from math import sqrt"
   ]
  },
  {
   "cell_type": "code",
   "execution_count": 61,
   "id": "731af7a9",
   "metadata": {},
   "outputs": [],
   "source": [
    "rmse_rnn=sqrt(mean_squared_error(test.values,arr))\n",
    "mean_rnn=test.values.mean()"
   ]
  },
  {
   "cell_type": "code",
   "execution_count": 62,
   "id": "6ced78f2",
   "metadata": {},
   "outputs": [
    {
     "name": "stdout",
     "output_type": "stream",
     "text": [
      "2.6218000130019736 3.3\n"
     ]
    }
   ],
   "source": [
    "print(rmse_rnn,mean_rnn)"
   ]
  },
  {
   "cell_type": "markdown",
   "id": "a2c0a629",
   "metadata": {},
   "source": [
    "## VAR Model"
   ]
  },
  {
   "cell_type": "code",
   "execution_count": 88,
   "id": "c754542c",
   "metadata": {},
   "outputs": [
    {
     "data": {
      "text/html": [
       "<div>\n",
       "<style scoped>\n",
       "    .dataframe tbody tr th:only-of-type {\n",
       "        vertical-align: middle;\n",
       "    }\n",
       "\n",
       "    .dataframe tbody tr th {\n",
       "        vertical-align: top;\n",
       "    }\n",
       "\n",
       "    .dataframe thead th {\n",
       "        text-align: right;\n",
       "    }\n",
       "</style>\n",
       "<table border=\"1\" class=\"dataframe\">\n",
       "  <thead>\n",
       "    <tr style=\"text-align: right;\">\n",
       "      <th></th>\n",
       "      <th>net_quantity</th>\n",
       "      <th>discount</th>\n",
       "    </tr>\n",
       "    <tr>\n",
       "      <th>day</th>\n",
       "      <th></th>\n",
       "      <th></th>\n",
       "    </tr>\n",
       "  </thead>\n",
       "  <tbody>\n",
       "    <tr>\n",
       "      <th>2023-03-03</th>\n",
       "      <td>8</td>\n",
       "      <td>0.000000</td>\n",
       "    </tr>\n",
       "    <tr>\n",
       "      <th>2023-03-04</th>\n",
       "      <td>1</td>\n",
       "      <td>0.000000</td>\n",
       "    </tr>\n",
       "    <tr>\n",
       "      <th>2023-03-10</th>\n",
       "      <td>2</td>\n",
       "      <td>0.000000</td>\n",
       "    </tr>\n",
       "    <tr>\n",
       "      <th>2023-03-11</th>\n",
       "      <td>2</td>\n",
       "      <td>0.000000</td>\n",
       "    </tr>\n",
       "    <tr>\n",
       "      <th>2023-03-12</th>\n",
       "      <td>0</td>\n",
       "      <td>0.000000</td>\n",
       "    </tr>\n",
       "    <tr>\n",
       "      <th>...</th>\n",
       "      <td>...</td>\n",
       "      <td>...</td>\n",
       "    </tr>\n",
       "    <tr>\n",
       "      <th>2023-06-28</th>\n",
       "      <td>-1</td>\n",
       "      <td>0.000000</td>\n",
       "    </tr>\n",
       "    <tr>\n",
       "      <th>2023-06-29</th>\n",
       "      <td>6</td>\n",
       "      <td>0.058333</td>\n",
       "    </tr>\n",
       "    <tr>\n",
       "      <th>2023-06-30</th>\n",
       "      <td>2</td>\n",
       "      <td>0.000000</td>\n",
       "    </tr>\n",
       "    <tr>\n",
       "      <th>2023-07-01</th>\n",
       "      <td>9</td>\n",
       "      <td>0.229152</td>\n",
       "    </tr>\n",
       "    <tr>\n",
       "      <th>2023-07-02</th>\n",
       "      <td>7</td>\n",
       "      <td>0.245782</td>\n",
       "    </tr>\n",
       "  </tbody>\n",
       "</table>\n",
       "<p>102 rows × 2 columns</p>\n",
       "</div>"
      ],
      "text/plain": [
       "            net_quantity  discount\n",
       "day                               \n",
       "2023-03-03             8  0.000000\n",
       "2023-03-04             1  0.000000\n",
       "2023-03-10             2  0.000000\n",
       "2023-03-11             2  0.000000\n",
       "2023-03-12             0  0.000000\n",
       "...                  ...       ...\n",
       "2023-06-28            -1  0.000000\n",
       "2023-06-29             6  0.058333\n",
       "2023-06-30             2  0.000000\n",
       "2023-07-01             9  0.229152\n",
       "2023-07-02             7  0.245782\n",
       "\n",
       "[102 rows x 2 columns]"
      ]
     },
     "execution_count": 88,
     "metadata": {},
     "output_type": "execute_result"
    }
   ],
   "source": [
    "df_new"
   ]
  },
  {
   "cell_type": "code",
   "execution_count": 89,
   "id": "aab743f5",
   "metadata": {},
   "outputs": [],
   "source": [
    "from statsmodels.tsa.stattools import adfuller"
   ]
  },
  {
   "cell_type": "code",
   "execution_count": 92,
   "id": "e264571e",
   "metadata": {},
   "outputs": [
    {
     "data": {
      "text/plain": [
       "(-3.7691304595131796,\n",
       " 0.0032394210466923524,\n",
       " 1,\n",
       " 100,\n",
       " {'1%': -3.497501033, '5%': -2.89090644, '10%': -2.5824349},\n",
       " 457.63473373330567)"
      ]
     },
     "execution_count": 92,
     "metadata": {},
     "output_type": "execute_result"
    }
   ],
   "source": [
    "adfuller(df_new['net_quantity'])"
   ]
  },
  {
   "cell_type": "code",
   "execution_count": 96,
   "id": "3530df98",
   "metadata": {},
   "outputs": [
    {
     "data": {
      "text/plain": [
       "(-3.40875260265579,\n",
       " 0.010664090262727677,\n",
       " 1,\n",
       " 100,\n",
       " {'1%': -3.497501033, '5%': -2.89090644, '10%': -2.5824349},\n",
       " -269.463618526398)"
      ]
     },
     "execution_count": 96,
     "metadata": {},
     "output_type": "execute_result"
    }
   ],
   "source": [
    "adfuller(df_new['discount'])"
   ]
  },
  {
   "cell_type": "code",
   "execution_count": 95,
   "id": "400bb021",
   "metadata": {},
   "outputs": [
    {
     "data": {
      "text/plain": [
       "<Axes: xlabel='day'>"
      ]
     },
     "execution_count": 95,
     "metadata": {},
     "output_type": "execute_result"
    },
    {
     "data": {
      "image/png": "[encoded data removed]",
      "text/plain": [
       "<Figure size 640x480 with 1 Axes>"
      ]
     },
     "metadata": {},
     "output_type": "display_data"
    }
   ],
   "source": [
    "df_new[['discount']].plot()"
   ]
  },
  {
   "cell_type": "code",
   "execution_count": 105,
   "id": "f2f48a2e",
   "metadata": {},
   "outputs": [
    {
     "data": {
      "text/plain": [
       "Index(['net_quantity', 'discount'], dtype='object')"
      ]
     },
     "execution_count": 105,
     "metadata": {},
     "output_type": "execute_result"
    }
   ],
   "source": [
    "df_new.columns"
   ]
  },
  {
   "cell_type": "code",
   "execution_count": 106,
   "id": "c6f828bd",
   "metadata": {},
   "outputs": [
    {
     "data": {
      "text/html": [
       "<div>\n",
       "<style scoped>\n",
       "    .dataframe tbody tr th:only-of-type {\n",
       "        vertical-align: middle;\n",
       "    }\n",
       "\n",
       "    .dataframe tbody tr th {\n",
       "        vertical-align: top;\n",
       "    }\n",
       "\n",
       "    .dataframe thead th {\n",
       "        text-align: right;\n",
       "    }\n",
       "</style>\n",
       "<table border=\"1\" class=\"dataframe\">\n",
       "  <thead>\n",
       "    <tr style=\"text-align: right;\">\n",
       "      <th></th>\n",
       "      <th>net_quantity</th>\n",
       "      <th>discount</th>\n",
       "    </tr>\n",
       "    <tr>\n",
       "      <th>day</th>\n",
       "      <th></th>\n",
       "      <th></th>\n",
       "    </tr>\n",
       "  </thead>\n",
       "  <tbody>\n",
       "    <tr>\n",
       "      <th>2023-03-03</th>\n",
       "      <td>8</td>\n",
       "      <td>0.0</td>\n",
       "    </tr>\n",
       "    <tr>\n",
       "      <th>2023-03-04</th>\n",
       "      <td>1</td>\n",
       "      <td>0.0</td>\n",
       "    </tr>\n",
       "    <tr>\n",
       "      <th>2023-03-10</th>\n",
       "      <td>2</td>\n",
       "      <td>0.0</td>\n",
       "    </tr>\n",
       "    <tr>\n",
       "      <th>2023-03-11</th>\n",
       "      <td>2</td>\n",
       "      <td>0.0</td>\n",
       "    </tr>\n",
       "    <tr>\n",
       "      <th>2023-03-12</th>\n",
       "      <td>0</td>\n",
       "      <td>0.0</td>\n",
       "    </tr>\n",
       "  </tbody>\n",
       "</table>\n",
       "</div>"
      ],
      "text/plain": [
       "            net_quantity  discount\n",
       "day                               \n",
       "2023-03-03             8       0.0\n",
       "2023-03-04             1       0.0\n",
       "2023-03-10             2       0.0\n",
       "2023-03-11             2       0.0\n",
       "2023-03-12             0       0.0"
      ]
     },
     "execution_count": 106,
     "metadata": {},
     "output_type": "execute_result"
    }
   ],
   "source": [
    "df_new.head()"
   ]
  },
  {
   "cell_type": "markdown",
   "id": "9f58a239",
   "metadata": {},
   "source": [
    "## Facebook Pro"
   ]
  },
  {
   "cell_type": "code",
   "execution_count": 113,
   "id": "cdd80f24",
   "metadata": {},
   "outputs": [],
   "source": [
    "df_fp=data_final.copy()"
   ]
  },
  {
   "cell_type": "code",
   "execution_count": 114,
   "id": "c2607813",
   "metadata": {},
   "outputs": [],
   "source": [
    "df_fp.reset_index(inplace=True)"
   ]
  },
  {
   "cell_type": "code",
   "execution_count": 117,
   "id": "175f7a96",
   "metadata": {},
   "outputs": [],
   "source": [
    "df_fp.columns=['ds','y']"
   ]
  },
  {
   "cell_type": "code",
   "execution_count": 118,
   "id": "0b7afcb2",
   "metadata": {},
   "outputs": [
    {
     "data": {
      "text/html": [
       "<div>\n",
       "<style scoped>\n",
       "    .dataframe tbody tr th:only-of-type {\n",
       "        vertical-align: middle;\n",
       "    }\n",
       "\n",
       "    .dataframe tbody tr th {\n",
       "        vertical-align: top;\n",
       "    }\n",
       "\n",
       "    .dataframe thead th {\n",
       "        text-align: right;\n",
       "    }\n",
       "</style>\n",
       "<table border=\"1\" class=\"dataframe\">\n",
       "  <thead>\n",
       "    <tr style=\"text-align: right;\">\n",
       "      <th></th>\n",
       "      <th>ds</th>\n",
       "      <th>y</th>\n",
       "    </tr>\n",
       "  </thead>\n",
       "  <tbody>\n",
       "    <tr>\n",
       "      <th>0</th>\n",
       "      <td>2023-03-03</td>\n",
       "      <td>8</td>\n",
       "    </tr>\n",
       "    <tr>\n",
       "      <th>1</th>\n",
       "      <td>2023-03-04</td>\n",
       "      <td>1</td>\n",
       "    </tr>\n",
       "    <tr>\n",
       "      <th>2</th>\n",
       "      <td>2023-03-10</td>\n",
       "      <td>2</td>\n",
       "    </tr>\n",
       "    <tr>\n",
       "      <th>3</th>\n",
       "      <td>2023-03-11</td>\n",
       "      <td>2</td>\n",
       "    </tr>\n",
       "    <tr>\n",
       "      <th>4</th>\n",
       "      <td>2023-03-12</td>\n",
       "      <td>0</td>\n",
       "    </tr>\n",
       "  </tbody>\n",
       "</table>\n",
       "</div>"
      ],
      "text/plain": [
       "          ds  y\n",
       "0 2023-03-03  8\n",
       "1 2023-03-04  1\n",
       "2 2023-03-10  2\n",
       "3 2023-03-11  2\n",
       "4 2023-03-12  0"
      ]
     },
     "execution_count": 118,
     "metadata": {},
     "output_type": "execute_result"
    }
   ],
   "source": [
    "df_fp.head()"
   ]
  },
  {
   "cell_type": "code",
   "execution_count": 123,
   "id": "2490bd8b",
   "metadata": {},
   "outputs": [],
   "source": [
    "import prophet"
   ]
  },
  {
   "cell_type": "code",
   "execution_count": 122,
   "id": "8e696267",
   "metadata": {},
   "outputs": [],
   "source": [
    "!pip install plotly -q"
   ]
  },
  {
   "cell_type": "code",
   "execution_count": 129,
   "id": "be791362",
   "metadata": {},
   "outputs": [
    {
     "data": {
      "text/html": [
       "<div>\n",
       "<style scoped>\n",
       "    .dataframe tbody tr th:only-of-type {\n",
       "        vertical-align: middle;\n",
       "    }\n",
       "\n",
       "    .dataframe tbody tr th {\n",
       "        vertical-align: top;\n",
       "    }\n",
       "\n",
       "    .dataframe thead th {\n",
       "        text-align: right;\n",
       "    }\n",
       "</style>\n",
       "<table border=\"1\" class=\"dataframe\">\n",
       "  <thead>\n",
       "    <tr style=\"text-align: right;\">\n",
       "      <th></th>\n",
       "      <th>ds</th>\n",
       "      <th>y</th>\n",
       "    </tr>\n",
       "  </thead>\n",
       "  <tbody>\n",
       "    <tr>\n",
       "      <th>0</th>\n",
       "      <td>2023-03-03</td>\n",
       "      <td>8</td>\n",
       "    </tr>\n",
       "    <tr>\n",
       "      <th>1</th>\n",
       "      <td>2023-03-04</td>\n",
       "      <td>1</td>\n",
       "    </tr>\n",
       "    <tr>\n",
       "      <th>2</th>\n",
       "      <td>2023-03-10</td>\n",
       "      <td>2</td>\n",
       "    </tr>\n",
       "    <tr>\n",
       "      <th>3</th>\n",
       "      <td>2023-03-11</td>\n",
       "      <td>2</td>\n",
       "    </tr>\n",
       "    <tr>\n",
       "      <th>4</th>\n",
       "      <td>2023-03-12</td>\n",
       "      <td>0</td>\n",
       "    </tr>\n",
       "    <tr>\n",
       "      <th>...</th>\n",
       "      <td>...</td>\n",
       "      <td>...</td>\n",
       "    </tr>\n",
       "    <tr>\n",
       "      <th>87</th>\n",
       "      <td>2023-06-18</td>\n",
       "      <td>5</td>\n",
       "    </tr>\n",
       "    <tr>\n",
       "      <th>88</th>\n",
       "      <td>2023-06-19</td>\n",
       "      <td>5</td>\n",
       "    </tr>\n",
       "    <tr>\n",
       "      <th>89</th>\n",
       "      <td>2023-06-20</td>\n",
       "      <td>2</td>\n",
       "    </tr>\n",
       "    <tr>\n",
       "      <th>90</th>\n",
       "      <td>2023-06-21</td>\n",
       "      <td>1</td>\n",
       "    </tr>\n",
       "    <tr>\n",
       "      <th>91</th>\n",
       "      <td>2023-06-22</td>\n",
       "      <td>2</td>\n",
       "    </tr>\n",
       "  </tbody>\n",
       "</table>\n",
       "<p>92 rows × 2 columns</p>\n",
       "</div>"
      ],
      "text/plain": [
       "           ds  y\n",
       "0  2023-03-03  8\n",
       "1  2023-03-04  1\n",
       "2  2023-03-10  2\n",
       "3  2023-03-11  2\n",
       "4  2023-03-12  0\n",
       "..        ... ..\n",
       "87 2023-06-18  5\n",
       "88 2023-06-19  5\n",
       "89 2023-06-20  2\n",
       "90 2023-06-21  1\n",
       "91 2023-06-22  2\n",
       "\n",
       "[92 rows x 2 columns]"
      ]
     },
     "execution_count": 129,
     "metadata": {},
     "output_type": "execute_result"
    }
   ],
   "source": [
    "df_fp.iloc[:-10,:]"
   ]
  },
  {
   "cell_type": "code",
   "execution_count": 147,
   "id": "a37c68a1",
   "metadata": {},
   "outputs": [
    {
     "name": "stderr",
     "output_type": "stream",
     "text": [
      "18:12:19 - cmdstanpy - INFO - Chain [1] start processing\n",
      "18:12:19 - cmdstanpy - INFO - Chain [1] done processing\n"
     ]
    },
    {
     "data": {
      "text/plain": [
       "<prophet.forecaster.Prophet at 0x27c42fbca00>"
      ]
     },
     "execution_count": 147,
     "metadata": {},
     "output_type": "execute_result"
    }
   ],
   "source": [
    "\n",
    "model_p = prophet.Prophet()\n",
    "\n",
    "# Fit the model\n",
    "model_p.fit(df_fp.iloc[:-10,:])\n",
    "\n"
   ]
  },
  {
   "cell_type": "code",
   "execution_count": 148,
   "id": "a2f9c81b",
   "metadata": {},
   "outputs": [],
   "source": [
    "# Make predictions\n",
    "future = model_p.predict(df_fp.tail(10))\n",
    "\n",
    "# # Plot the predictions\n",
    "# model_p.plot(future)"
   ]
  },
  {
   "cell_type": "code",
   "execution_count": 149,
   "id": "44f2e3fa",
   "metadata": {},
   "outputs": [],
   "source": [
    "fb_pred=future['yhat'].values"
   ]
  },
  {
   "cell_type": "code",
   "execution_count": 150,
   "id": "f466a5d5",
   "metadata": {},
   "outputs": [],
   "source": [
    "fp_actual=df_fp.iloc[-10:,:]['y'].values"
   ]
  },
  {
   "cell_type": "code",
   "execution_count": 151,
   "id": "3a0d08e8",
   "metadata": {},
   "outputs": [
    {
     "data": {
      "text/plain": [
       "[<matplotlib.lines.Line2D at 0x27c42ff3280>]"
      ]
     },
     "execution_count": 151,
     "metadata": {},
     "output_type": "execute_result"
    },
    {
     "data": {
      "image/png": "[encoded data removed]",
      "text/plain": [
       "<Figure size 640x480 with 1 Axes>"
      ]
     },
     "metadata": {},
     "output_type": "display_data"
    }
   ],
   "source": [
    "plt.plot(fb_pred)\n",
    "plt.plot(fp_actual)"
   ]
  },
  {
   "cell_type": "code",
   "execution_count": 153,
   "id": "8b3e6675",
   "metadata": {},
   "outputs": [
    {
     "data": {
      "text/plain": [
       "3.5958674426995603"
      ]
     },
     "execution_count": 153,
     "metadata": {},
     "output_type": "execute_result"
    }
   ],
   "source": [
    "sqrt(mean_squared_error(fb_pred,fp_actual))"
   ]
  },
  {
   "cell_type": "code",
   "execution_count": 154,
   "id": "19c10075",
   "metadata": {},
   "outputs": [
    {
     "data": {
      "text/plain": [
       "3.3"
      ]
     },
     "execution_count": 154,
     "metadata": {},
     "output_type": "execute_result"
    }
   ],
   "source": [
    "fp_actual.mean()"
   ]
  },
  {
   "cell_type": "code",
   "execution_count": null,
   "id": "aaf6089d",
   "metadata": {},
   "outputs": [],
   "source": []
  }
 ],
 "metadata": {
  "kernelspec": {
   "display_name": "Python 3 (ipykernel)",
   "language": "python",
   "name": "python3"
  },
  "language_info": {
   "codemirror_mode": {
    "name": "ipython",
    "version": 3
   },
   "file_extension": ".py",
   "mimetype": "text/x-python",
   "name": "python",
   "nbconvert_exporter": "python",
   "pygments_lexer": "ipython3",
   "version": "3.10.9"
  }
 },
 "nbformat": 4,
 "nbformat_minor": 5
}
